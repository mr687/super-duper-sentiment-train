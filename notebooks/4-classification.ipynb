{
 "cells": [
  {
   "attachments": {},
   "cell_type": "markdown",
   "metadata": {},
   "source": [
    "# Classification: Data Modeling"
   ]
  },
  {
   "cell_type": "code",
   "execution_count": 1,
   "metadata": {},
   "outputs": [],
   "source": [
    "import pickle\n",
    "\n",
    "import pandas as pd\n",
    "\n",
    "import seaborn as sns\n",
    "import matplotlib.pyplot as plt\n",
    "\n",
    "from os.path import exists\n",
    "\n",
    "from scipy.stats import uniform\n",
    "\n",
    "from sklearn.feature_extraction.text import TfidfVectorizer\n",
    "from sklearn.model_selection import train_test_split, GridSearchCV, RandomizedSearchCV\n",
    "from sklearn import svm\n",
    "from sklearn.metrics import accuracy_score, confusion_matrix, classification_report, precision_score, recall_score, f1_score"
   ]
  },
  {
   "attachments": {},
   "cell_type": "markdown",
   "metadata": {},
   "source": [
    "## Section 1: Term weighting with TF-IDF"
   ]
  },
  {
   "cell_type": "code",
   "execution_count": 2,
   "metadata": {},
   "outputs": [],
   "source": [
    "target = 'tweets.csv'\n",
    "supervised_target_path = f'../dataset/processed/supervised_{target}'"
   ]
  },
  {
   "cell_type": "code",
   "execution_count": 3,
   "metadata": {},
   "outputs": [
    {
     "data": {
      "text/html": [
       "<div>\n",
       "<style scoped>\n",
       "    .dataframe tbody tr th:only-of-type {\n",
       "        vertical-align: middle;\n",
       "    }\n",
       "\n",
       "    .dataframe tbody tr th {\n",
       "        vertical-align: top;\n",
       "    }\n",
       "\n",
       "    .dataframe thead th {\n",
       "        text-align: right;\n",
       "    }\n",
       "</style>\n",
       "<table border=\"1\" class=\"dataframe\">\n",
       "  <thead>\n",
       "    <tr style=\"text-align: right;\">\n",
       "      <th></th>\n",
       "      <th>content</th>\n",
       "      <th>tokens</th>\n",
       "      <th>tokens_ready</th>\n",
       "      <th>text</th>\n",
       "      <th>polarity</th>\n",
       "      <th>sentiment</th>\n",
       "    </tr>\n",
       "  </thead>\n",
       "  <tbody>\n",
       "    <tr>\n",
       "      <th>0</th>\n",
       "      <td>@soeyoto1 @msaid_didu Bukti kalau Pemerintahan...</td>\n",
       "      <td>['bukti', 'pemerintahan', 'pro', 'rakyat', 'pr...</td>\n",
       "      <td>['bukti', 'perintah', 'pro', 'rakyat', 'pro', ...</td>\n",
       "      <td>bukti perintah pro rakyat pro oligarki bbmnya ...</td>\n",
       "      <td>-2</td>\n",
       "      <td>0</td>\n",
       "    </tr>\n",
       "    <tr>\n",
       "      <th>1</th>\n",
       "      <td>@KompasTV Mentri esdm, trus patokanmu apa? Kan...</td>\n",
       "      <td>['menteri', 'esdm', 'patokanmu', 'kantong', 'j...</td>\n",
       "      <td>['menteri', 'esdm', 'patok', 'kantong', 'jebol...</td>\n",
       "      <td>menteri esdm patok kantong jebol korupsi imbas...</td>\n",
       "      <td>-9</td>\n",
       "      <td>0</td>\n",
       "    </tr>\n",
       "    <tr>\n",
       "      <th>2</th>\n",
       "      <td>@hnurwahid Ngaku masih subsidi tapi ada swasta...</td>\n",
       "      <td>['mengaku', 'subsidi', 'swasta', 'jual', 'mura...</td>\n",
       "      <td>['subsidi', 'swasta', 'jual', 'murah', 'subsid...</td>\n",
       "      <td>subsidi swasta jual murah subsidi pimpin tukan...</td>\n",
       "      <td>6</td>\n",
       "      <td>1</td>\n",
       "    </tr>\n",
       "    <tr>\n",
       "      <th>3</th>\n",
       "      <td>@Tan_Mar3M Kalau Vivo bisaberani bertahan deng...</td>\n",
       "      <td>['berani', 'bertahan', 'harga', 'nasib']</td>\n",
       "      <td>['berani', 'tahan', 'harga', 'nasib']</td>\n",
       "      <td>berani tahan harga nasib</td>\n",
       "      <td>4</td>\n",
       "      <td>1</td>\n",
       "    </tr>\n",
       "    <tr>\n",
       "      <th>4</th>\n",
       "      <td>Menteri BUMN Erick Thohir menegaskan persiapan...</td>\n",
       "      <td>['menteri', 'bumn', 'erick', 'thohir', 'persia...</td>\n",
       "      <td>['menteri', 'bumn', 'erick', 'thohir', 'indone...</td>\n",
       "      <td>menteri bumn erick thohir indonesia transisi e...</td>\n",
       "      <td>2</td>\n",
       "      <td>1</td>\n",
       "    </tr>\n",
       "  </tbody>\n",
       "</table>\n",
       "</div>"
      ],
      "text/plain": [
       "                                             content  \\\n",
       "0  @soeyoto1 @msaid_didu Bukti kalau Pemerintahan...   \n",
       "1  @KompasTV Mentri esdm, trus patokanmu apa? Kan...   \n",
       "2  @hnurwahid Ngaku masih subsidi tapi ada swasta...   \n",
       "3  @Tan_Mar3M Kalau Vivo bisaberani bertahan deng...   \n",
       "4  Menteri BUMN Erick Thohir menegaskan persiapan...   \n",
       "\n",
       "                                              tokens  \\\n",
       "0  ['bukti', 'pemerintahan', 'pro', 'rakyat', 'pr...   \n",
       "1  ['menteri', 'esdm', 'patokanmu', 'kantong', 'j...   \n",
       "2  ['mengaku', 'subsidi', 'swasta', 'jual', 'mura...   \n",
       "3           ['berani', 'bertahan', 'harga', 'nasib']   \n",
       "4  ['menteri', 'bumn', 'erick', 'thohir', 'persia...   \n",
       "\n",
       "                                        tokens_ready  \\\n",
       "0  ['bukti', 'perintah', 'pro', 'rakyat', 'pro', ...   \n",
       "1  ['menteri', 'esdm', 'patok', 'kantong', 'jebol...   \n",
       "2  ['subsidi', 'swasta', 'jual', 'murah', 'subsid...   \n",
       "3              ['berani', 'tahan', 'harga', 'nasib']   \n",
       "4  ['menteri', 'bumn', 'erick', 'thohir', 'indone...   \n",
       "\n",
       "                                                text  polarity  sentiment  \n",
       "0  bukti perintah pro rakyat pro oligarki bbmnya ...        -2          0  \n",
       "1  menteri esdm patok kantong jebol korupsi imbas...        -9          0  \n",
       "2  subsidi swasta jual murah subsidi pimpin tukan...         6          1  \n",
       "3                           berani tahan harga nasib         4          1  \n",
       "4  menteri bumn erick thohir indonesia transisi e...         2          1  "
      ]
     },
     "execution_count": 3,
     "metadata": {},
     "output_type": "execute_result"
    }
   ],
   "source": [
    "df = pd.read_csv(supervised_target_path, delimiter=';')\n",
    "df.dropna(inplace=True)\n",
    "\n",
    "df.head()"
   ]
  },
  {
   "cell_type": "code",
   "execution_count": 4,
   "metadata": {},
   "outputs": [],
   "source": [
    "X_train, X_test, y_train, y_test = train_test_split(df['text'], df['sentiment'], test_size=0.2, random_state=687)"
   ]
  },
  {
   "cell_type": "code",
   "execution_count": 5,
   "metadata": {},
   "outputs": [],
   "source": [
    "vectorizer = TfidfVectorizer(use_idf=True)\n",
    "\n",
    "X_train_tfidf = vectorizer.fit_transform(X_train)\n",
    "X_test_tfidf = vectorizer.transform(X_test)"
   ]
  },
  {
   "cell_type": "code",
   "execution_count": 6,
   "metadata": {},
   "outputs": [],
   "source": [
    "def random_best_search_param():\n",
    "  param_grid = {'C': uniform(loc=0, scale=4),\n",
    "              'kernel': ['linear', 'poly', 'rbf', 'sigmoid'],\n",
    "              'gamma': uniform(loc=0, scale=0.1)}\n",
    "  svm_model = svm.SVC()\n",
    "  grid_search = RandomizedSearchCV(svm_model, param_distributions=param_grid, n_iter=50, cv=5, n_jobs=-1, random_state=0, verbose=1)\n",
    "  grid_search.fit(X_train_tfidf, y_train)\n",
    "\n",
    "  with open(\"../dataset/model/svm_best_params.pkl\", \"wb\") as f:\n",
    "    pickle.dump(grid_search.best_params_, f)\n",
    "\n",
    "  print(\"Best parameters: \", grid_search.best_params_)\n",
    "  print(\"Best score: \", grid_search.best_score_)\n",
    "  \n",
    "  return grid_search.best_params_\n",
    "\n",
    "def load_svm_best_param():\n",
    "\ttry:\n",
    "\t\twith open('../dataset/model/svm_best_params.pkl', 'rb') as f:\n",
    "\t\t\treturn pickle.load(f)\n",
    "\texcept FileNotFoundError:\n",
    "\t\treturn None\n",
    "\n",
    "def load_svm_model():\n",
    "    model_path = '../dataset/model/svm_model.pkl'\n",
    "    svm_model = None\n",
    "\n",
    "    if exists(model_path):\n",
    "      with open(model_path, 'rb') as f:\n",
    "        svm_model = pickle.load(f)\n",
    "    else:\n",
    "      best_params = load_svm_best_param()\n",
    "      if best_params is None:\n",
    "        best_params = random_best_search_param()\n",
    "      svm_model = svm.SVC(**best_params)\n",
    "    \n",
    "    svm_model.fit(X_train_tfidf, y_train)\n",
    "    svm_model.score(X_test_tfidf, y_test)\n",
    "\n",
    "    return svm_model"
   ]
  },
  {
   "cell_type": "code",
   "execution_count": 7,
   "metadata": {},
   "outputs": [],
   "source": [
    "# load svm model\n",
    "svm_model = load_svm_model()\n",
    "\n",
    "y_pred = svm_model.predict(X_test_tfidf)"
   ]
  },
  {
   "cell_type": "code",
   "execution_count": 8,
   "metadata": {},
   "outputs": [
    {
     "name": "stdout",
     "output_type": "stream",
     "text": [
      "Accuracy: 0.8686440677966102\n",
      "Precision: 0.907626208378088\n",
      "Recall: 0.8941798941798942\n",
      "F1-Score: 0.9008528784648188\n",
      "\n",
      " Report : \n",
      "              precision    recall  f1-score   support\n",
      "\n",
      "           0       0.79      0.82      0.81       471\n",
      "           1       0.91      0.89      0.90       945\n",
      "\n",
      "    accuracy                           0.87      1416\n",
      "   macro avg       0.85      0.86      0.85      1416\n",
      "weighted avg       0.87      0.87      0.87      1416\n",
      "\n"
     ]
    }
   ],
   "source": [
    "acc = accuracy_score(y_test, y_pred)\n",
    "precision = precision_score(y_test, y_pred, average='binary')\n",
    "recall = recall_score(y_test, y_pred, average='binary')\n",
    "f1 = f1_score(y_test, y_pred, average='binary')\n",
    "\n",
    "print(\"Accuracy:\", acc)\n",
    "print(\"Precision:\", precision)\n",
    "print(\"Recall:\", recall)\n",
    "print(\"F1-Score:\", f1)\n",
    "print('\\n Report : ') \n",
    "print(classification_report(y_test, y_pred))"
   ]
  },
  {
   "cell_type": "code",
   "execution_count": 9,
   "metadata": {},
   "outputs": [
    {
     "data": {
      "image/png": "[encoded data removed]",
      "text/plain": [
       "<Figure size 800x500 with 2 Axes>"
      ]
     },
     "metadata": {},
     "output_type": "display_data"
    }
   ],
   "source": [
    "# visualize confusion matrix\n",
    "confusion_matrix = confusion_matrix(y_test, y_pred)\n",
    "\n",
    "f, ax = plt.subplots(figsize=(8,5))\n",
    "sns.heatmap(confusion_matrix, annot=True, fmt=\".0f\", ax=ax)\n",
    "plt.xlabel(\"predict\")\n",
    "plt.ylabel(\"actual\")\n",
    "plt.show()"
   ]
  },
  {
   "cell_type": "code",
   "execution_count": 10,
   "metadata": {},
   "outputs": [
    {
     "data": {
      "text/html": [
       "<div>\n",
       "<style scoped>\n",
       "    .dataframe tbody tr th:only-of-type {\n",
       "        vertical-align: middle;\n",
       "    }\n",
       "\n",
       "    .dataframe tbody tr th {\n",
       "        vertical-align: top;\n",
       "    }\n",
       "\n",
       "    .dataframe thead th {\n",
       "        text-align: right;\n",
       "    }\n",
       "</style>\n",
       "<table border=\"1\" class=\"dataframe\">\n",
       "  <thead>\n",
       "    <tr style=\"text-align: right;\">\n",
       "      <th></th>\n",
       "      <th>text</th>\n",
       "      <th>polarity</th>\n",
       "    </tr>\n",
       "  </thead>\n",
       "  <tbody>\n",
       "    <tr>\n",
       "      <th>1293</th>\n",
       "      <td>galang dana</td>\n",
       "      <td>Positive</td>\n",
       "    </tr>\n",
       "    <tr>\n",
       "      <th>526</th>\n",
       "      <td>jokowi presiden nya ahok bedua susah rakyat</td>\n",
       "      <td>Positive</td>\n",
       "    </tr>\n",
       "    <tr>\n",
       "      <th>315</th>\n",
       "      <td>duuhhh pantesan bangkrut hitung banding ngaco gitu</td>\n",
       "      <td>Negative</td>\n",
       "    </tr>\n",
       "    <tr>\n",
       "      <th>1321</th>\n",
       "      <td>persetan monopoli</td>\n",
       "      <td>Positive</td>\n",
       "    </tr>\n",
       "    <tr>\n",
       "      <th>1188</th>\n",
       "      <td>aipda sasmito heri patroli monitoring pantau spbu wilkum polsek kramatjati lokasi spbu raya dwi sartika kel cililitan kec kramatjati hasil giat pantau jenis bbm pertalite sedia solar sedia pertamax sedia</td>\n",
       "      <td>Positive</td>\n",
       "    </tr>\n",
       "    <tr>\n",
       "      <th>563</th>\n",
       "      <td>selamat</td>\n",
       "      <td>Positive</td>\n",
       "    </tr>\n",
       "    <tr>\n",
       "      <th>271</th>\n",
       "      <td>hitung hpp pertalite kayak gimana case jual ron harga jual nyari untung jual ron subsidi ngakunya rugi</td>\n",
       "      <td>Positive</td>\n",
       "    </tr>\n",
       "    <tr>\n",
       "      <th>862</th>\n",
       "      <td>gaji orang wkwk</td>\n",
       "      <td>Positive</td>\n",
       "    </tr>\n",
       "    <tr>\n",
       "      <th>184</th>\n",
       "      <td>bagus gitu bbm orang nyantai iya salah nikmat bbm subsidi</td>\n",
       "      <td>Positive</td>\n",
       "    </tr>\n",
       "    <tr>\n",
       "      <th>1105</th>\n",
       "      <td>takut efek domino kenyataanya ulang kali ekonomi buruk takut makan makan</td>\n",
       "      <td>Positive</td>\n",
       "    </tr>\n",
       "  </tbody>\n",
       "</table>\n",
       "</div>"
      ],
      "text/plain": [
       "                                                                                                                                                                                                             text  \\\n",
       "1293                                                                                                                                                                                                  galang dana   \n",
       "526                                                                                                                                                                   jokowi presiden nya ahok bedua susah rakyat   \n",
       "315                                                                                                                                                            duuhhh pantesan bangkrut hitung banding ngaco gitu   \n",
       "1321                                                                                                                                                                                            persetan monopoli   \n",
       "1188  aipda sasmito heri patroli monitoring pantau spbu wilkum polsek kramatjati lokasi spbu raya dwi sartika kel cililitan kec kramatjati hasil giat pantau jenis bbm pertalite sedia solar sedia pertamax sedia   \n",
       "563                                                                                                                                                                                                       selamat   \n",
       "271                                                                                                        hitung hpp pertalite kayak gimana case jual ron harga jual nyari untung jual ron subsidi ngakunya rugi   \n",
       "862                                                                                                                                                                                               gaji orang wkwk   \n",
       "184                                                                                                                                                     bagus gitu bbm orang nyantai iya salah nikmat bbm subsidi   \n",
       "1105                                                                                                                                     takut efek domino kenyataanya ulang kali ekonomi buruk takut makan makan   \n",
       "\n",
       "      polarity  \n",
       "1293  Positive  \n",
       "526   Positive  \n",
       "315   Negative  \n",
       "1321  Positive  \n",
       "1188  Positive  \n",
       "563   Positive  \n",
       "271   Positive  \n",
       "862   Positive  \n",
       "184   Positive  \n",
       "1105  Positive  "
      ]
     },
     "execution_count": 10,
     "metadata": {},
     "output_type": "execute_result"
    }
   ],
   "source": [
    "# Results from prediction sentiment on data test\n",
    "\n",
    "texts = df['text']\n",
    "text_train, text_test = train_test_split(texts, test_size=0.2, random_state=687)\n",
    "\n",
    "result_test = pd.DataFrame(data=zip(text_test, y_pred), columns=['text', 'polarity'])\n",
    "\n",
    "polarity_decode = {0 : 'Negative', 1 : 'Positive'}\n",
    "result_test['polarity'] = result_test['polarity'].map(polarity_decode)\n",
    "\n",
    "pd.set_option('max_colwidth', 300)\n",
    "result_test.sample(10)"
   ]
  },
  {
   "cell_type": "code",
   "execution_count": 11,
   "metadata": {},
   "outputs": [],
   "source": [
    "# save model\n",
    "with open('../dataset/model/sental_model.pkl', 'wb') as f:\n",
    "\tpickle.dump(svm_model, f)\n",
    "\n",
    "# save vectorizer\n",
    "with open('../dataset/model/vectorizer.pkl', 'wb') as f:\n",
    "\tpickle.dump(vectorizer, f)"
   ]
  },
  {
   "cell_type": "code",
   "execution_count": 12,
   "metadata": {},
   "outputs": [
    {
     "name": "stdout",
     "output_type": "stream",
     "text": [
      "Positive\n"
     ]
    }
   ],
   "source": [
    "sample_text = 'Kami Mendukung Keputusan PemeRintah untUk menAIkkan HARga BBM'\n",
    "\n",
    "sample_text = vectorizer.transform([sample_text])\n",
    "result = svm_model.predict(sample_text)\n",
    "\n",
    "sentiment = polarity_decode[result[0]]\n",
    "print(sentiment)"
   ]
  }
 ],
 "metadata": {
  "kernelspec": {
   "display_name": "venv",
   "language": "python",
   "name": "python3"
  },
  "language_info": {
   "codemirror_mode": {
    "name": "ipython",
    "version": 3
   },
   "file_extension": ".py",
   "mimetype": "text/x-python",
   "name": "python",
   "nbconvert_exporter": "python",
   "pygments_lexer": "ipython3",
   "version": "3.10.9 (main, Dec 15 2022, 18:25:35) [Clang 14.0.0 (clang-1400.0.29.202)]"
  },
  "orig_nbformat": 4,
  "vscode": {
   "interpreter": {
    "hash": "85fe51655c1fcaa9a7b9c0223583abd4e8b4409b0fbdb1dc760dec4edd874462"
   }
  }
 },
 "nbformat": 4,
 "nbformat_minor": 2
}
