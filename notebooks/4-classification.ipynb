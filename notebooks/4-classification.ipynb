{
 "cells": [
  {
   "attachments": {},
   "cell_type": "markdown",
   "metadata": {},
   "source": [
    "# Classification: Data Modeling"
   ]
  },
  {
   "cell_type": "code",
   "execution_count": 1,
   "metadata": {},
   "outputs": [],
   "source": [
    "import pickle\n",
    "\n",
    "import pandas as pd\n",
    "\n",
    "import seaborn as sns\n",
    "import matplotlib.pyplot as plt\n",
    "\n",
    "from os.path import exists\n",
    "\n",
    "from scipy.stats import uniform\n",
    "\n",
    "from sklearn.feature_extraction.text import TfidfVectorizer\n",
    "from sklearn.model_selection import train_test_split, GridSearchCV, RandomizedSearchCV\n",
    "from sklearn import svm\n",
    "from sklearn.metrics import accuracy_score, confusion_matrix, classification_report, precision_score, recall_score, f1_score"
   ]
  },
  {
   "cell_type": "code",
   "execution_count": 2,
   "metadata": {},
   "outputs": [],
   "source": [
    "target = 'tweets'\n",
    "\n",
    "# The first line for upsampled data, the second for the original data\n",
    "supervised_up_target_path = f'../dataset/processed/supervised_{target}_upsampled.csv'\n",
    "supervised_target_path = f'../dataset/processed/supervised_{target}.csv'\n",
    "\n",
    "model_path = '../dataset/model/sental_model.pkl'\n",
    "model_best_params_path = '../dataset/model/svm_best_params.pkl'\n",
    "vectorizer_path = '../dataset/model/sental_vectorizer.pkl'"
   ]
  },
  {
   "cell_type": "code",
   "execution_count": 3,
   "metadata": {},
   "outputs": [
    {
     "data": {
      "text/html": [
       "<div>\n",
       "<style scoped>\n",
       "    .dataframe tbody tr th:only-of-type {\n",
       "        vertical-align: middle;\n",
       "    }\n",
       "\n",
       "    .dataframe tbody tr th {\n",
       "        vertical-align: top;\n",
       "    }\n",
       "\n",
       "    .dataframe thead th {\n",
       "        text-align: right;\n",
       "    }\n",
       "</style>\n",
       "<table border=\"1\" class=\"dataframe\">\n",
       "  <thead>\n",
       "    <tr style=\"text-align: right;\">\n",
       "      <th></th>\n",
       "      <th>content</th>\n",
       "      <th>tokens</th>\n",
       "      <th>tokens_ready</th>\n",
       "      <th>text</th>\n",
       "      <th>polarity</th>\n",
       "      <th>sentiment</th>\n",
       "    </tr>\n",
       "  </thead>\n",
       "  <tbody>\n",
       "    <tr>\n",
       "      <th>0</th>\n",
       "      <td>@hnurwahid Ngaku masih subsidi tapi ada swasta...</td>\n",
       "      <td>['mengaku', 'subsidi', 'swasta', 'jual', 'mura...</td>\n",
       "      <td>['subsidi', 'swasta', 'jual', 'murah', 'subsid...</td>\n",
       "      <td>subsidi swasta jual murah subsidi pimpin tukan...</td>\n",
       "      <td>6</td>\n",
       "      <td>1</td>\n",
       "    </tr>\n",
       "    <tr>\n",
       "      <th>1</th>\n",
       "      <td>@Tan_Mar3M Kalau Vivo bisaberani bertahan deng...</td>\n",
       "      <td>['berani', 'bertahan', 'harga', 'nasib']</td>\n",
       "      <td>['berani', 'tahan', 'harga', 'nasib']</td>\n",
       "      <td>berani tahan harga nasib</td>\n",
       "      <td>4</td>\n",
       "      <td>1</td>\n",
       "    </tr>\n",
       "    <tr>\n",
       "      <th>2</th>\n",
       "      <td>Menteri BUMN Erick Thohir menegaskan persiapan...</td>\n",
       "      <td>['menteri', 'bumn', 'erick', 'thohir', 'persia...</td>\n",
       "      <td>['menteri', 'bumn', 'erick', 'thohir', 'indone...</td>\n",
       "      <td>menteri bumn erick thohir indonesia transisi e...</td>\n",
       "      <td>2</td>\n",
       "      <td>1</td>\n",
       "    </tr>\n",
       "    <tr>\n",
       "      <th>3</th>\n",
       "      <td>Itu kata orang pertamina si wkwkwk, dan hampir...</td>\n",
       "      <td>['orang', 'wkwkwk', 'uji', 'sirkulasi', 'franc...</td>\n",
       "      <td>['orang', 'wkwkwk', 'uji', 'sirkulasi', 'franc...</td>\n",
       "      <td>orang wkwkwk uji sirkulasi franchise pertashop...</td>\n",
       "      <td>4</td>\n",
       "      <td>1</td>\n",
       "    </tr>\n",
       "    <tr>\n",
       "      <th>4</th>\n",
       "      <td>@eradotid Ya lagian vivo kan bukan punya pemer...</td>\n",
       "      <td>['pemerintah', 'sumber', 'minyaknya', 'beda', ...</td>\n",
       "      <td>['perintah', 'sumber', 'minyak', 'beda', 'supl...</td>\n",
       "      <td>perintah sumber minyak beda suplier istilah ur...</td>\n",
       "      <td>1</td>\n",
       "      <td>1</td>\n",
       "    </tr>\n",
       "  </tbody>\n",
       "</table>\n",
       "</div>"
      ],
      "text/plain": [
       "                                             content  \\\n",
       "0  @hnurwahid Ngaku masih subsidi tapi ada swasta...   \n",
       "1  @Tan_Mar3M Kalau Vivo bisaberani bertahan deng...   \n",
       "2  Menteri BUMN Erick Thohir menegaskan persiapan...   \n",
       "3  Itu kata orang pertamina si wkwkwk, dan hampir...   \n",
       "4  @eradotid Ya lagian vivo kan bukan punya pemer...   \n",
       "\n",
       "                                              tokens  \\\n",
       "0  ['mengaku', 'subsidi', 'swasta', 'jual', 'mura...   \n",
       "1           ['berani', 'bertahan', 'harga', 'nasib']   \n",
       "2  ['menteri', 'bumn', 'erick', 'thohir', 'persia...   \n",
       "3  ['orang', 'wkwkwk', 'uji', 'sirkulasi', 'franc...   \n",
       "4  ['pemerintah', 'sumber', 'minyaknya', 'beda', ...   \n",
       "\n",
       "                                        tokens_ready  \\\n",
       "0  ['subsidi', 'swasta', 'jual', 'murah', 'subsid...   \n",
       "1              ['berani', 'tahan', 'harga', 'nasib']   \n",
       "2  ['menteri', 'bumn', 'erick', 'thohir', 'indone...   \n",
       "3  ['orang', 'wkwkwk', 'uji', 'sirkulasi', 'franc...   \n",
       "4  ['perintah', 'sumber', 'minyak', 'beda', 'supl...   \n",
       "\n",
       "                                                text  polarity  sentiment  \n",
       "0  subsidi swasta jual murah subsidi pimpin tukan...         6          1  \n",
       "1                           berani tahan harga nasib         4          1  \n",
       "2  menteri bumn erick thohir indonesia transisi e...         2          1  \n",
       "3  orang wkwkwk uji sirkulasi franchise pertashop...         4          1  \n",
       "4  perintah sumber minyak beda suplier istilah ur...         1          1  "
      ]
     },
     "execution_count": 3,
     "metadata": {},
     "output_type": "execute_result"
    }
   ],
   "source": [
    "# df = pd.read_csv(supervised_target_path, delimiter=';')\n",
    "df = pd.read_csv(supervised_up_target_path, delimiter=';')\n",
    "df.dropna(inplace=True)\n",
    "\n",
    "df.head()"
   ]
  },
  {
   "attachments": {},
   "cell_type": "markdown",
   "metadata": {},
   "source": [
    "## Section 1: Term weighting with TF-IDF & Data Splitting"
   ]
  },
  {
   "cell_type": "code",
   "execution_count": 4,
   "metadata": {},
   "outputs": [],
   "source": [
    "def term_weighting_tfidf(X_train, X_test):\n",
    "\tvectorizer = TfidfVectorizer(use_idf=True)\n",
    "\n",
    "\tX_train_tfidf = vectorizer.fit_transform(X_train)\n",
    "\tX_test_tfidf = vectorizer.transform(X_test)\n",
    "\treturn X_train_tfidf, X_test_tfidf, vectorizer\n",
    "\n",
    "def save_vectorizer(model_vectorizer):\n",
    "  with open(vectorizer_path, 'wb') as f:\n",
    "    pickle.dump(model_vectorizer, f)"
   ]
  },
  {
   "cell_type": "code",
   "execution_count": 5,
   "metadata": {},
   "outputs": [],
   "source": [
    "def split_data(test_size=0.2):\n",
    "\t\tX = df['text']\n",
    "\t\ty = df['sentiment']\n",
    "\t\treturn train_test_split(X, y, test_size=test_size, random_state=687)\n",
    "\n",
    "def split_stratified_data(test_size=0.2):\n",
    "\t\tX = df['text']\n",
    "\t\ty = df['sentiment']\n",
    "\t\treturn train_test_split(X, y, test_size=test_size, random_state=687, stratify=y)"
   ]
  },
  {
   "attachments": {},
   "cell_type": "markdown",
   "metadata": {},
   "source": [
    "## Section 2: Classification with SVM"
   ]
  },
  {
   "cell_type": "code",
   "execution_count": 6,
   "metadata": {},
   "outputs": [],
   "source": [
    "def save_svm_best_param(best_params):\n",
    "  with open(model_best_params_path, \"wb\") as f:\n",
    "    pickle.dump(best_params, f)\n",
    "\n",
    "def save_model(model):\n",
    "  with open(model_path, 'wb') as f:\n",
    "    pickle.dump(model, f)\n",
    "\n",
    "def random_best_search_param(X_train_tfidf, y_train):\n",
    "  param_grid = {'C': uniform(loc=0, scale=4),\n",
    "              'kernel': ['linear', 'poly', 'rbf', 'sigmoid'],\n",
    "              'gamma': uniform(loc=0, scale=0.1)}\n",
    "  model = svm.SVC()\n",
    "  grid_search = RandomizedSearchCV(model, param_distributions=param_grid, n_iter=50, cv=5, n_jobs=-1, random_state=0, verbose=1)\n",
    "  grid_search.fit(X_train_tfidf, y_train)\n",
    "\n",
    "  save_svm_best_param(grid_search.best_params_)\n",
    "\n",
    "  print(\"Best parameters: \", grid_search.best_params_)\n",
    "  print(\"Best score: \", grid_search.best_score_)\n",
    "  \n",
    "  return grid_search.best_params_\n",
    "\n",
    "def load_svm_best_param():\n",
    "\ttry:\n",
    "\t\twith open(model_best_params_path, 'rb') as f:\n",
    "\t\t\treturn pickle.load(f)\n",
    "\texcept FileNotFoundError:\n",
    "\t\treturn None\n",
    "\n",
    "def load_svm_model():\n",
    "    model = None\n",
    "\n",
    "    if exists(model_path):\n",
    "      with open(model_path, 'rb') as f:\n",
    "        model = pickle.load(f)\n",
    "    else:\n",
    "      best_params = load_svm_best_param()\n",
    "      if best_params is None:\n",
    "        best_params = random_best_search_param()\n",
    "        print(\"Loaded best parameters from grid search\")\n",
    "      else:\n",
    "        print(\"Use parameters: \", best_params)\n",
    "        print(\"Loaded best parameters from file\")\n",
    "      \n",
    "      model = svm.SVC(**best_params)\n",
    "\n",
    "    return model\n",
    "\n",
    "def model_predict(model, y, y_pred):\n",
    "\tacc = accuracy_score(y, y_pred)\n",
    "\tprecision = precision_score(y, y_pred, average='binary')\n",
    "\trecall = recall_score(y, y_pred, average='binary')\n",
    "\tf1 = f1_score(y, y_pred, average='binary')\n",
    "\tmatrix = confusion_matrix(y, y_pred)\n",
    "\n",
    "\tprint(\"Accuracy:\", acc)\n",
    "\tprint(\"Precision:\", precision)\n",
    "\tprint(\"Recall:\", recall)\n",
    "\tprint(\"F1-Score:\", f1)\n",
    "\tprint('\\n Report : ') \n",
    "\tprint(classification_report(y, y_pred))\n",
    "\tprint('Confusion Matrix : ')\n",
    "\n",
    "\tf, ax = plt.subplots(figsize=(8,5))\n",
    "\tsns.heatmap(matrix, annot=True, fmt=\".0f\", ax=ax)\n",
    "\tplt.xlabel(\"Predicted\")\n",
    "\tplt.ylabel(\"Actual\")\n",
    "\tplt.show()"
   ]
  },
  {
   "attachments": {},
   "cell_type": "markdown",
   "metadata": {},
   "source": [
    "## Section 3: Experiments"
   ]
  },
  {
   "cell_type": "markdown",
   "metadata": {},
   "source": [
    "### Section 3.1: SVM with TF-IDF (Non-Stratified Data)"
   ]
  },
  {
   "cell_type": "code",
   "execution_count": 7,
   "metadata": {},
   "outputs": [
    {
     "name": "stdout",
     "output_type": "stream",
     "text": [
      "Use parameters:  {'C': 3.8286206358121855, 'gamma': 0.014035078041264516, 'kernel': 'linear'}\n",
      "Loaded best parameters from file\n",
      "Model score:  0.9324181626187962\n"
     ]
    }
   ],
   "source": [
    "X_train, X_test, y_train, y_test = split_data()\n",
    "X_train_tfidf, X_test_tfidf, vectorizer = term_weighting_tfidf(X_train, X_test)\n",
    "\n",
    "svm_model = load_svm_model()\n",
    "svm_model.fit(X_train_tfidf, y_train)\n",
    "\n",
    "model_score = svm_model.score(X_test_tfidf, y_test)\n",
    "print(\"Model score: \", model_score)"
   ]
  },
  {
   "attachments": {},
   "cell_type": "markdown",
   "metadata": {},
   "source": [
    "#### Section 3.1.1: Evaluation"
   ]
  },
  {
   "cell_type": "code",
   "execution_count": 8,
   "metadata": {},
   "outputs": [
    {
     "name": "stdout",
     "output_type": "stream",
     "text": [
      "Accuracy: 0.9948514851485148\n",
      "Precision: 0.997618417570786\n",
      "Recall: 0.9921052631578947\n",
      "F1-Score: 0.9948542024013722\n",
      "\n",
      " Report : \n",
      "              precision    recall  f1-score   support\n",
      "\n",
      "           0       0.99      1.00      0.99      3775\n",
      "           1       1.00      0.99      0.99      3800\n",
      "\n",
      "    accuracy                           0.99      7575\n",
      "   macro avg       0.99      0.99      0.99      7575\n",
      "weighted avg       0.99      0.99      0.99      7575\n",
      "\n",
      "Confusion Matrix : \n"
     ]
    },
    {
     "data": {
      "image/png": "[encoded data removed]",
      "text/plain": [
       "<Figure size 800x500 with 2 Axes>"
      ]
     },
     "metadata": {},
     "output_type": "display_data"
    },
    {
     "name": "stdout",
     "output_type": "stream",
     "text": [
      "Accuracy: 0.9324181626187962\n",
      "Precision: 0.9538288288288288\n",
      "Recall: 0.9068522483940042\n",
      "F1-Score: 0.9297475301866082\n",
      "\n",
      " Report : \n",
      "              precision    recall  f1-score   support\n",
      "\n",
      "           0       0.91      0.96      0.93       960\n",
      "           1       0.95      0.91      0.93       934\n",
      "\n",
      "    accuracy                           0.93      1894\n",
      "   macro avg       0.93      0.93      0.93      1894\n",
      "weighted avg       0.93      0.93      0.93      1894\n",
      "\n",
      "Confusion Matrix : \n"
     ]
    },
    {
     "data": {
      "image/png": "[encoded data removed]",
      "text/plain": [
       "<Figure size 800x500 with 2 Axes>"
      ]
     },
     "metadata": {},
     "output_type": "display_data"
    }
   ],
   "source": [
    "y_pred_train = svm_model.predict(X_train_tfidf)\n",
    "y_pred_test = svm_model.predict(X_test_tfidf)\n",
    "\n",
    "model_predict(svm_model, y_train, y_pred_train)\n",
    "model_predict(svm_model, y_test, y_pred_test)"
   ]
  },
  {
   "attachments": {},
   "cell_type": "markdown",
   "metadata": {},
   "source": [
    "### Section 3.2: SVM with TF-IDF (Stratified Data)"
   ]
  },
  {
   "cell_type": "code",
   "execution_count": 9,
   "metadata": {},
   "outputs": [
    {
     "name": "stdout",
     "output_type": "stream",
     "text": [
      "Use parameters:  {'C': 3.8286206358121855, 'gamma': 0.014035078041264516, 'kernel': 'linear'}\n",
      "Loaded best parameters from file\n",
      "Model score:  0.9308342133051742\n"
     ]
    }
   ],
   "source": [
    "X_train, X_test, y_train, y_test = split_stratified_data()\n",
    "X_train_tfidf, X_test_tfidf, vectorizer = term_weighting_tfidf(X_train, X_test)\n",
    "\n",
    "svm_model = load_svm_model()\n",
    "svm_model.fit(X_train_tfidf, y_train)\n",
    "\n",
    "model_score = svm_model.score(X_test_tfidf, y_test)\n",
    "print(\"Model score: \", model_score)"
   ]
  },
  {
   "attachments": {},
   "cell_type": "markdown",
   "metadata": {},
   "source": [
    "#### Section 3.2.1: Evaluation"
   ]
  },
  {
   "cell_type": "code",
   "execution_count": 10,
   "metadata": {},
   "outputs": [
    {
     "name": "stdout",
     "output_type": "stream",
     "text": [
      "Accuracy: 0.9936633663366337\n",
      "Precision: 0.9962835147332094\n",
      "Recall: 0.9910219170847636\n",
      "F1-Score: 0.9936457505957108\n",
      "\n",
      " Report : \n",
      "              precision    recall  f1-score   support\n",
      "\n",
      "           0       0.99      1.00      0.99      3788\n",
      "           1       1.00      0.99      0.99      3787\n",
      "\n",
      "    accuracy                           0.99      7575\n",
      "   macro avg       0.99      0.99      0.99      7575\n",
      "weighted avg       0.99      0.99      0.99      7575\n",
      "\n",
      "Confusion Matrix : \n"
     ]
    },
    {
     "data": {
      "image/png": "[encoded data removed]",
      "text/plain": [
       "<Figure size 800x500 with 2 Axes>"
      ]
     },
     "metadata": {},
     "output_type": "display_data"
    },
    {
     "name": "stdout",
     "output_type": "stream",
     "text": [
      "Accuracy: 0.9308342133051742\n",
      "Precision: 0.9553571428571429\n",
      "Recall: 0.9039070749736009\n",
      "F1-Score: 0.9289202387411829\n",
      "\n",
      " Report : \n",
      "              precision    recall  f1-score   support\n",
      "\n",
      "           0       0.91      0.96      0.93       947\n",
      "           1       0.96      0.90      0.93       947\n",
      "\n",
      "    accuracy                           0.93      1894\n",
      "   macro avg       0.93      0.93      0.93      1894\n",
      "weighted avg       0.93      0.93      0.93      1894\n",
      "\n",
      "Confusion Matrix : \n"
     ]
    },
    {
     "data": {
      "image/png": "[encoded data removed]",
      "text/plain": [
       "<Figure size 800x500 with 2 Axes>"
      ]
     },
     "metadata": {},
     "output_type": "display_data"
    }
   ],
   "source": [
    "y_pred_train = svm_model.predict(X_train_tfidf)\n",
    "y_pred_test = svm_model.predict(X_test_tfidf)\n",
    "\n",
    "model_predict(svm_model, y_train, y_pred_train)\n",
    "model_predict(svm_model, y_test, y_pred_test)"
   ]
  },
  {
   "attachments": {},
   "cell_type": "markdown",
   "metadata": {},
   "source": [
    "## Section 4: Test & Conclusion"
   ]
  },
  {
   "cell_type": "code",
   "execution_count": 11,
   "metadata": {},
   "outputs": [],
   "source": [
    "%run \"../shared.py\""
   ]
  },
  {
   "cell_type": "code",
   "execution_count": 12,
   "metadata": {},
   "outputs": [
    {
     "data": {
      "text/html": [
       "<div>\n",
       "<style scoped>\n",
       "    .dataframe tbody tr th:only-of-type {\n",
       "        vertical-align: middle;\n",
       "    }\n",
       "\n",
       "    .dataframe tbody tr th {\n",
       "        vertical-align: top;\n",
       "    }\n",
       "\n",
       "    .dataframe thead th {\n",
       "        text-align: right;\n",
       "    }\n",
       "</style>\n",
       "<table border=\"1\" class=\"dataframe\">\n",
       "  <thead>\n",
       "    <tr style=\"text-align: right;\">\n",
       "      <th></th>\n",
       "      <th>text</th>\n",
       "      <th>polarity</th>\n",
       "    </tr>\n",
       "  </thead>\n",
       "  <tbody>\n",
       "    <tr>\n",
       "      <th>1771</th>\n",
       "      <td>kyny ajar</td>\n",
       "      <td>Positive</td>\n",
       "    </tr>\n",
       "    <tr>\n",
       "      <th>1108</th>\n",
       "      <td>melotot bilang merem untung melek petronas ahok</td>\n",
       "      <td>Negative</td>\n",
       "    </tr>\n",
       "    <tr>\n",
       "      <th>1833</th>\n",
       "      <td>info salah audit cek tombol bro dispenser cek segel tera takar pas tera acak speed sesuai standar bbm bejana ukur</td>\n",
       "      <td>Negative</td>\n",
       "    </tr>\n",
       "    <tr>\n",
       "      <th>1274</th>\n",
       "      <td>kena prank</td>\n",
       "      <td>Positive</td>\n",
       "    </tr>\n",
       "    <tr>\n",
       "      <th>1545</th>\n",
       "      <td>susah sarangx tikus das</td>\n",
       "      <td>Negative</td>\n",
       "    </tr>\n",
       "    <tr>\n",
       "      <th>1412</th>\n",
       "      <td>cabang indonesia laba kompetitor kota serius</td>\n",
       "      <td>Negative</td>\n",
       "    </tr>\n",
       "    <tr>\n",
       "      <th>1768</th>\n",
       "      <td>sebentar malam big match petronas</td>\n",
       "      <td>Negative</td>\n",
       "    </tr>\n",
       "    <tr>\n",
       "      <th>420</th>\n",
       "      <td>perintah provinsi papua barat upaya ajak antri isi bbm spbu dampak distribusi logistik wilayah provinsi papuaamandamai papuaaman</td>\n",
       "      <td>Positive</td>\n",
       "    </tr>\n",
       "    <tr>\n",
       "      <th>739</th>\n",
       "      <td>breaking news demo</td>\n",
       "      <td>Positive</td>\n",
       "    </tr>\n",
       "    <tr>\n",
       "      <th>1407</th>\n",
       "      <td>cerdas maju negri</td>\n",
       "      <td>Positive</td>\n",
       "    </tr>\n",
       "  </tbody>\n",
       "</table>\n",
       "</div>"
      ],
      "text/plain": [
       "                                                                                                                                  text  \\\n",
       "1771                                                                                                                         kyny ajar   \n",
       "1108                                                                                   melotot bilang merem untung melek petronas ahok   \n",
       "1833                 info salah audit cek tombol bro dispenser cek segel tera takar pas tera acak speed sesuai standar bbm bejana ukur   \n",
       "1274                                                                                                                        kena prank   \n",
       "1545                                                                                                           susah sarangx tikus das   \n",
       "1412                                                                                      cabang indonesia laba kompetitor kota serius   \n",
       "1768                                                                                                 sebentar malam big match petronas   \n",
       "420   perintah provinsi papua barat upaya ajak antri isi bbm spbu dampak distribusi logistik wilayah provinsi papuaamandamai papuaaman   \n",
       "739                                                                                                                 breaking news demo   \n",
       "1407                                                                                                                 cerdas maju negri   \n",
       "\n",
       "      polarity  \n",
       "1771  Positive  \n",
       "1108  Negative  \n",
       "1833  Negative  \n",
       "1274  Positive  \n",
       "1545  Negative  \n",
       "1412  Negative  \n",
       "1768  Negative  \n",
       "420   Positive  \n",
       "739   Positive  \n",
       "1407  Positive  "
      ]
     },
     "execution_count": 12,
     "metadata": {},
     "output_type": "execute_result"
    }
   ],
   "source": [
    "# Results from prediction sentiment on data test\n",
    "\n",
    "texts = df['text']\n",
    "text_train, text_test = train_test_split(texts, test_size=0.2, random_state=687)\n",
    "\n",
    "result_test = pd.DataFrame(data=zip(text_test, y_pred_test), columns=['text', 'polarity'])\n",
    "\n",
    "polarity_decode = {0 : 'Negative', 1 : 'Positive'}\n",
    "result_test['polarity'] = result_test['polarity'].map(polarity_decode)\n",
    "\n",
    "pd.set_option('max_colwidth', 300)\n",
    "result_test.sample(10)"
   ]
  },
  {
   "cell_type": "code",
   "execution_count": 13,
   "metadata": {},
   "outputs": [
    {
     "name": "stdout",
     "output_type": "stream",
     "text": [
      "Normalization list: 1034\n",
      "Indonesian stopwords: 758\n",
      "English stopwords: 179\n",
      "Custom stopwords: 2\n",
      "Total stopwords: 939\n",
      "Sampel text: dukung putus perintah naik harga bbm\n",
      "Sentiment: Positive\n"
     ]
    }
   ],
   "source": [
    "sample_text = 'Kami Mendukung Keputusan PemeRintah untUk menAIkkan HARga BBM'\n",
    "sample_text = preprocess_text(sample_text)\n",
    "\n",
    "sample_text_tfidf = vectorizer.transform([sample_text])\n",
    "polarity = svm_model.predict(sample_text_tfidf)\n",
    "\n",
    "sentiment = polarity_decode[polarity[0]]\n",
    "\n",
    "print(f\"Sampel text: {sample_text}\")\n",
    "print(f\"Sentiment: {sentiment}\")"
   ]
  },
  {
   "cell_type": "code",
   "execution_count": 14,
   "metadata": {},
   "outputs": [
    {
     "name": "stdout",
     "output_type": "stream",
     "text": [
      "Normalization list: 1034\n",
      "Indonesian stopwords: 758\n",
      "English stopwords: 179\n",
      "Custom stopwords: 2\n",
      "Total stopwords: 939\n",
      "Sampel text: benci perintah\n",
      "Sentiment: Negative\n"
     ]
    }
   ],
   "source": [
    "sample_text = 'saya benci dengan pemerintah'\n",
    "sample_text = preprocess_text(sample_text)\n",
    "\n",
    "sample_text_tfidf = vectorizer.transform([sample_text])\n",
    "polarity = svm_model.predict(sample_text_tfidf)\n",
    "\n",
    "sentiment = polarity_decode[polarity[0]]\n",
    "\n",
    "print(f\"Sampel text: {sample_text}\")\n",
    "print(f\"Sentiment: {sentiment}\")"
   ]
  },
  {
   "cell_type": "code",
   "execution_count": 15,
   "metadata": {},
   "outputs": [],
   "source": [
    "save_model(svm_model)\n",
    "save_vectorizer(vectorizer)"
   ]
  }
 ],
 "metadata": {
  "kernelspec": {
   "display_name": "venv",
   "language": "python",
   "name": "python3"
  },
  "language_info": {
   "codemirror_mode": {
    "name": "ipython",
    "version": 3
   },
   "file_extension": ".py",
   "mimetype": "text/x-python",
   "name": "python",
   "nbconvert_exporter": "python",
   "pygments_lexer": "ipython3",
   "version": "3.10.9"
  },
  "orig_nbformat": 4,
  "vscode": {
   "interpreter": {
    "hash": "85fe51655c1fcaa9a7b9c0223583abd4e8b4409b0fbdb1dc760dec4edd874462"
   }
  }
 },
 "nbformat": 4,
 "nbformat_minor": 2
}
