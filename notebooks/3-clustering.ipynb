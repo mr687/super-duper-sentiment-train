{
 "cells": [
  {
   "attachments": {},
   "cell_type": "markdown",
   "metadata": {},
   "source": [
    "# Clustering: Data Labeling"
   ]
  },
  {
   "cell_type": "code",
   "execution_count": 1,
   "metadata": {},
   "outputs": [],
   "source": [
    "import pandas as pd\n",
    "import numpy as np\n",
    "import matplotlib.pyplot as plt\n",
    "import seaborn as sns\n",
    "\n",
    "import swifter\n",
    "\n",
    "from ast import literal_eval\n",
    "from nltk.tokenize import word_tokenize\n",
    "from nltk.tokenize.treebank import TreebankWordDetokenizer\n",
    "\n",
    "from sklearn.feature_extraction.text import CountVectorizer\n",
    "from sklearn.utils import resample"
   ]
  },
  {
   "cell_type": "code",
   "execution_count": 2,
   "metadata": {},
   "outputs": [],
   "source": [
    "indoset_lexicon_neg_path = '../dataset/wordlist/indoset_lexicon_neg.csv'\n",
    "indoset_lexicon_pos_path = '../dataset/wordlist/indoset_lexicon_pos.csv'\n",
    "vulgarity_lexicon_path = '../dataset/wordlist/vulgarity_lexicon.csv'\n",
    "\n",
    "target = 'tweets.csv'\n",
    "processed_target_path = f'../dataset/processed/processed_{target}'\n",
    "output_path = f'../dataset/processed/supervised_{target}'"
   ]
  },
  {
   "cell_type": "code",
   "execution_count": 3,
   "metadata": {},
   "outputs": [
    {
     "name": "stdout",
     "output_type": "stream",
     "text": [
      "Total lexicon neg: 6609\n",
      "Total lexicon pos: 3609\n",
      "Total lexicon vulgarity: 62\n"
     ]
    }
   ],
   "source": [
    "indoset_lexicon_neg = pd.read_csv(indoset_lexicon_neg_path, delimiter='\\t')\n",
    "indoset_lexicon_pos = pd.read_csv(indoset_lexicon_pos_path, delimiter='\\t')\n",
    "vulgarity_lexicon = pd.read_csv(vulgarity_lexicon_path, header=None, delimiter='\\t')\n",
    "\n",
    "print(f\"Total lexicon neg:\", len(indoset_lexicon_neg))\n",
    "print(f\"Total lexicon pos:\", len(indoset_lexicon_pos))\n",
    "print(f\"Total lexicon vulgarity:\", len(vulgarity_lexicon))"
   ]
  },
  {
   "cell_type": "code",
   "execution_count": 4,
   "metadata": {},
   "outputs": [
    {
     "name": "stdout",
     "output_type": "stream",
     "text": [
      "10280\n"
     ]
    },
    {
     "data": {
      "text/html": [
       "<div>\n",
       "<style scoped>\n",
       "    .dataframe tbody tr th:only-of-type {\n",
       "        vertical-align: middle;\n",
       "    }\n",
       "\n",
       "    .dataframe tbody tr th {\n",
       "        vertical-align: top;\n",
       "    }\n",
       "\n",
       "    .dataframe thead th {\n",
       "        text-align: right;\n",
       "    }\n",
       "</style>\n",
       "<table border=\"1\" class=\"dataframe\">\n",
       "  <thead>\n",
       "    <tr style=\"text-align: right;\">\n",
       "      <th></th>\n",
       "      <th>word</th>\n",
       "      <th>weight</th>\n",
       "    </tr>\n",
       "  </thead>\n",
       "  <tbody>\n",
       "    <tr>\n",
       "      <th>0</th>\n",
       "      <td>hai</td>\n",
       "      <td>3</td>\n",
       "    </tr>\n",
       "    <tr>\n",
       "      <th>1</th>\n",
       "      <td>merekam</td>\n",
       "      <td>2</td>\n",
       "    </tr>\n",
       "    <tr>\n",
       "      <th>2</th>\n",
       "      <td>ekstensif</td>\n",
       "      <td>3</td>\n",
       "    </tr>\n",
       "    <tr>\n",
       "      <th>3</th>\n",
       "      <td>paripurna</td>\n",
       "      <td>1</td>\n",
       "    </tr>\n",
       "    <tr>\n",
       "      <th>4</th>\n",
       "      <td>detail</td>\n",
       "      <td>2</td>\n",
       "    </tr>\n",
       "    <tr>\n",
       "      <th>...</th>\n",
       "      <td>...</td>\n",
       "      <td>...</td>\n",
       "    </tr>\n",
       "    <tr>\n",
       "      <th>10275</th>\n",
       "      <td>sontoloyo</td>\n",
       "      <td>-5</td>\n",
       "    </tr>\n",
       "    <tr>\n",
       "      <th>10276</th>\n",
       "      <td>syaithon</td>\n",
       "      <td>-5</td>\n",
       "    </tr>\n",
       "    <tr>\n",
       "      <th>10277</th>\n",
       "      <td>tai</td>\n",
       "      <td>-5</td>\n",
       "    </tr>\n",
       "    <tr>\n",
       "      <th>10278</th>\n",
       "      <td>telek</td>\n",
       "      <td>-5</td>\n",
       "    </tr>\n",
       "    <tr>\n",
       "      <th>10279</th>\n",
       "      <td>tolol</td>\n",
       "      <td>-5</td>\n",
       "    </tr>\n",
       "  </tbody>\n",
       "</table>\n",
       "<p>10280 rows × 2 columns</p>\n",
       "</div>"
      ],
      "text/plain": [
       "            word  weight\n",
       "0            hai       3\n",
       "1        merekam       2\n",
       "2      ekstensif       3\n",
       "3      paripurna       1\n",
       "4         detail       2\n",
       "...          ...     ...\n",
       "10275  sontoloyo      -5\n",
       "10276   syaithon      -5\n",
       "10277        tai      -5\n",
       "10278      telek      -5\n",
       "10279      tolol      -5\n",
       "\n",
       "[10280 rows x 2 columns]"
      ]
     },
     "execution_count": 4,
     "metadata": {},
     "output_type": "execute_result"
    }
   ],
   "source": [
    "# def update_lexicon_row(row=None, col_name=\"\", df=pd.DataFrame(), pkey=\"\"):\n",
    "# \ttry:\n",
    "# \t\tmatch_index = df.loc[df[pkey] == col_name].index[0]\n",
    "# \t\trow = df.loc[match_index]\n",
    "# \texcept IndexError:\n",
    "# \t\tpass\n",
    "# \tfinally:\n",
    "# \t\treturn row\n",
    "\n",
    "# def combine_lexicons(parent_lex, child_lex, pkey):\n",
    "# \tfiltered_lex = child_lex[child_lex[pkey].isin(parent_lex[pkey])]\n",
    "# \tparent_lex[parent_lex[pkey].isin(child_lex[pkey])] = parent_lex[parent_lex[pkey].isin(child_lex[pkey])].apply(lambda row: update_lexicon_row(row, row[pkey], filtered_lex, pkey), axis=1)\n",
    "# \tparent_lex = pd.concat([parent_lex, child_lex]).drop_duplicates(subset=[pkey])\n",
    "# \treturn parent_lex.reset_index(drop=True)\n",
    "\n",
    "lexicon_dict = pd.concat([indoset_lexicon_pos, indoset_lexicon_neg], ignore_index=True)\n",
    "\n",
    "vulgarity_lexicon_weight = [-5 for word in vulgarity_lexicon[0]]\n",
    "vulgarity_lexicon = pd.DataFrame(list(zip(vulgarity_lexicon[0],vulgarity_lexicon_weight)),columns =['word','weight'])\n",
    "\n",
    "\n",
    "lexicon_dict = pd.concat([lexicon_dict, vulgarity_lexicon], ignore_index=True)\n",
    "print(len(lexicon_dict))\n",
    "lexicon_dict"
   ]
  },
  {
   "cell_type": "code",
   "execution_count": 5,
   "metadata": {},
   "outputs": [
    {
     "name": "stdout",
     "output_type": "stream",
     "text": [
      "Total negative lexicon: 6671\n",
      "Total positive lexicon: 3609\n"
     ]
    },
    {
     "data": {
      "image/png": "[encoded data removed]",
      "text/plain": [
       "<Figure size 1000x500 with 2 Axes>"
      ]
     },
     "metadata": {},
     "output_type": "display_data"
    }
   ],
   "source": [
    "# count how many negative words in lexicon_dict\n",
    "neg_lexicon = lexicon_dict[lexicon_dict['weight'] < 0]\n",
    "pos_lexicon = lexicon_dict[lexicon_dict['weight'] >= 0]\n",
    "print(f\"Total negative lexicon:\", len(neg_lexicon))\n",
    "print(f\"Total positive lexicon:\", len(pos_lexicon))\n",
    "\n",
    "plt.figure(figsize=(10,5))\n",
    "# make bar plot from negative and positive lexicon\n",
    "plt.subplot(1,2,1)\n",
    "sns.barplot(x=['negative','positive'], y=[len(neg_lexicon), len(pos_lexicon)])\n",
    "plt.title('Lexicon Distribution')\n",
    "# visualize the amount of negative and positive words based on weight in lexicon_dict\n",
    "plt.subplot(1,2,2)\n",
    "sns.countplot(x='weight', data=lexicon_dict)\n",
    "plt.title('Lexicon Distribution')\n",
    "plt.show()"
   ]
  },
  {
   "cell_type": "code",
   "execution_count": 6,
   "metadata": {},
   "outputs": [],
   "source": [
    "def case_folding(text):\n",
    "    return text.lower()\n",
    "    \n",
    "def num_of_words(item):\n",
    "    words = word_tokenize(item['word'])\n",
    "    number = len(words)\n",
    "    return number\n",
    "\n",
    "lexicon_score_memorize = {}\n",
    "def calculate_score_in(lexicon, word, tf=0):\n",
    "    if tf == 0: return 0\n",
    "    scores = 0\n",
    "    if word in lexicon_score_memorize:\n",
    "        scores = lexicon_score_memorize[word]\n",
    "    else:\n",
    "        scores = [weight for weight in lexicon[lexicon['word'] == word]['weight'] if weight]\n",
    "        lexicon_score_memorize[word] = scores\n",
    "    scores = [score * tf for score in scores]\n",
    "    return sum(scores)"
   ]
  },
  {
   "cell_type": "code",
   "execution_count": 7,
   "metadata": {},
   "outputs": [
    {
     "data": {
      "application/vnd.jupyter.widget-view+json": {
       "model_id": "0283861800214969be0c14725db7bf70",
       "version_major": 2,
       "version_minor": 0
      },
      "text/plain": [
       "Pandas Apply:   0%|          | 0/10280 [00:00<?, ?it/s]"
      ]
     },
     "metadata": {},
     "output_type": "display_data"
    },
    {
     "data": {
      "application/vnd.jupyter.widget-view+json": {
       "model_id": "69052888bc1e48ee85395e6b9cc891e4",
       "version_major": 2,
       "version_minor": 0
      },
      "text/plain": [
       "Pandas Apply:   0%|          | 0/10280 [00:00<?, ?it/s]"
      ]
     },
     "metadata": {},
     "output_type": "display_data"
    },
    {
     "name": "stdout",
     "output_type": "stream",
     "text": [
      "10280\n"
     ]
    },
    {
     "data": {
      "text/html": [
       "<div>\n",
       "<style scoped>\n",
       "    .dataframe tbody tr th:only-of-type {\n",
       "        vertical-align: middle;\n",
       "    }\n",
       "\n",
       "    .dataframe tbody tr th {\n",
       "        vertical-align: top;\n",
       "    }\n",
       "\n",
       "    .dataframe thead th {\n",
       "        text-align: right;\n",
       "    }\n",
       "</style>\n",
       "<table border=\"1\" class=\"dataframe\">\n",
       "  <thead>\n",
       "    <tr style=\"text-align: right;\">\n",
       "      <th></th>\n",
       "      <th>word</th>\n",
       "      <th>weight</th>\n",
       "      <th>num_of_words</th>\n",
       "    </tr>\n",
       "  </thead>\n",
       "  <tbody>\n",
       "    <tr>\n",
       "      <th>9619</th>\n",
       "      <td>menampel</td>\n",
       "      <td>-3</td>\n",
       "      <td>1</td>\n",
       "    </tr>\n",
       "    <tr>\n",
       "      <th>1723</th>\n",
       "      <td>harga</td>\n",
       "      <td>3</td>\n",
       "      <td>1</td>\n",
       "    </tr>\n",
       "    <tr>\n",
       "      <th>9467</th>\n",
       "      <td>raba</td>\n",
       "      <td>-3</td>\n",
       "      <td>1</td>\n",
       "    </tr>\n",
       "    <tr>\n",
       "      <th>9415</th>\n",
       "      <td>pales</td>\n",
       "      <td>-4</td>\n",
       "      <td>1</td>\n",
       "    </tr>\n",
       "    <tr>\n",
       "      <th>928</th>\n",
       "      <td>mobil</td>\n",
       "      <td>1</td>\n",
       "      <td>1</td>\n",
       "    </tr>\n",
       "  </tbody>\n",
       "</table>\n",
       "</div>"
      ],
      "text/plain": [
       "          word  weight  num_of_words\n",
       "9619  menampel      -3             1\n",
       "1723     harga       3             1\n",
       "9467      raba      -3             1\n",
       "9415     pales      -4             1\n",
       "928      mobil       1             1"
      ]
     },
     "execution_count": 7,
     "metadata": {},
     "output_type": "execute_result"
    }
   ],
   "source": [
    "lexicon_dict['word'] = lexicon_dict['word'].swifter.apply(case_folding)\n",
    "lexicon_dict['num_of_words'] = lexicon_dict.swifter.apply(num_of_words, axis=1)\n",
    "lexicon_dict = lexicon_dict.drop(lexicon_dict[lexicon_dict['num_of_words'] == 0].index, axis=0)\n",
    "# lexicon_dict.drop_duplicates(subset=['word'], keep='first',inplace=True)\n",
    "lexicon_dict = lexicon_dict.reset_index(drop=True)\n",
    "\n",
    "print(len(lexicon_dict))\n",
    "lexicon_dict.sample(5)"
   ]
  },
  {
   "cell_type": "code",
   "execution_count": 8,
   "metadata": {},
   "outputs": [
    {
     "data": {
      "text/html": [
       "<div>\n",
       "<style scoped>\n",
       "    .dataframe tbody tr th:only-of-type {\n",
       "        vertical-align: middle;\n",
       "    }\n",
       "\n",
       "    .dataframe tbody tr th {\n",
       "        vertical-align: top;\n",
       "    }\n",
       "\n",
       "    .dataframe thead th {\n",
       "        text-align: right;\n",
       "    }\n",
       "</style>\n",
       "<table border=\"1\" class=\"dataframe\">\n",
       "  <thead>\n",
       "    <tr style=\"text-align: right;\">\n",
       "      <th></th>\n",
       "      <th>word</th>\n",
       "      <th>weight</th>\n",
       "      <th>num_of_words</th>\n",
       "    </tr>\n",
       "  </thead>\n",
       "  <tbody>\n",
       "    <tr>\n",
       "      <th>0</th>\n",
       "      <td>hai</td>\n",
       "      <td>3</td>\n",
       "      <td>1</td>\n",
       "    </tr>\n",
       "    <tr>\n",
       "      <th>1</th>\n",
       "      <td>merekam</td>\n",
       "      <td>2</td>\n",
       "      <td>1</td>\n",
       "    </tr>\n",
       "    <tr>\n",
       "      <th>2</th>\n",
       "      <td>ekstensif</td>\n",
       "      <td>3</td>\n",
       "      <td>1</td>\n",
       "    </tr>\n",
       "    <tr>\n",
       "      <th>3</th>\n",
       "      <td>paripurna</td>\n",
       "      <td>1</td>\n",
       "      <td>1</td>\n",
       "    </tr>\n",
       "    <tr>\n",
       "      <th>4</th>\n",
       "      <td>detail</td>\n",
       "      <td>2</td>\n",
       "      <td>1</td>\n",
       "    </tr>\n",
       "    <tr>\n",
       "      <th>...</th>\n",
       "      <td>...</td>\n",
       "      <td>...</td>\n",
       "      <td>...</td>\n",
       "    </tr>\n",
       "    <tr>\n",
       "      <th>10275</th>\n",
       "      <td>sontoloyo</td>\n",
       "      <td>-5</td>\n",
       "      <td>1</td>\n",
       "    </tr>\n",
       "    <tr>\n",
       "      <th>10276</th>\n",
       "      <td>syaithon</td>\n",
       "      <td>-5</td>\n",
       "      <td>1</td>\n",
       "    </tr>\n",
       "    <tr>\n",
       "      <th>10277</th>\n",
       "      <td>tai</td>\n",
       "      <td>-5</td>\n",
       "      <td>1</td>\n",
       "    </tr>\n",
       "    <tr>\n",
       "      <th>10278</th>\n",
       "      <td>telek</td>\n",
       "      <td>-5</td>\n",
       "      <td>1</td>\n",
       "    </tr>\n",
       "    <tr>\n",
       "      <th>10279</th>\n",
       "      <td>tolol</td>\n",
       "      <td>-5</td>\n",
       "      <td>1</td>\n",
       "    </tr>\n",
       "  </tbody>\n",
       "</table>\n",
       "<p>9540 rows × 3 columns</p>\n",
       "</div>"
      ],
      "text/plain": [
       "            word  weight  num_of_words\n",
       "0            hai       3             1\n",
       "1        merekam       2             1\n",
       "2      ekstensif       3             1\n",
       "3      paripurna       1             1\n",
       "4         detail       2             1\n",
       "...          ...     ...           ...\n",
       "10275  sontoloyo      -5             1\n",
       "10276   syaithon      -5             1\n",
       "10277        tai      -5             1\n",
       "10278      telek      -5             1\n",
       "10279      tolol      -5             1\n",
       "\n",
       "[9540 rows x 3 columns]"
      ]
     },
     "execution_count": 8,
     "metadata": {},
     "output_type": "execute_result"
    }
   ],
   "source": [
    "lexicon_dict.to_csv('../dataset/wordlist/lexicon_dict_all.csv', index=False)\n",
    "\n",
    "lexicon_dict = lexicon_dict[lexicon_dict['num_of_words'].map(lambda x: x) < 2]\n",
    "lexicon_dict"
   ]
  },
  {
   "cell_type": "code",
   "execution_count": 9,
   "metadata": {},
   "outputs": [],
   "source": [
    "lexicon = dict(zip(lexicon_dict['word'], lexicon_dict['weight']))\n",
    "vectorizer = CountVectorizer(vocabulary=lexicon.keys())\n",
    "\n",
    "def detokenize(tokens):\n",
    "\treturn TreebankWordDetokenizer().detokenize(tokens)\n",
    "\n",
    "def determine_polarity(text):\n",
    "\tbow_matrix = vectorizer.fit_transform([text]).toarray()\n",
    "\t\n",
    "\tpolarity = 0\n",
    "\tfor word, tf in zip(vectorizer.get_feature_names_out(), bow_matrix[0]):\n",
    "\t\tscore = calculate_score_in(lexicon_dict, word, tf)\n",
    "\t\tpolarity += score\n",
    "\treturn polarity\n",
    "\n",
    "def sentiment_analyze(polarity):\n",
    "\treturn 1 if polarity >= 0 else 0"
   ]
  },
  {
   "cell_type": "code",
   "execution_count": 11,
   "metadata": {},
   "outputs": [
    {
     "data": {
      "text/html": [
       "<div>\n",
       "<style scoped>\n",
       "    .dataframe tbody tr th:only-of-type {\n",
       "        vertical-align: middle;\n",
       "    }\n",
       "\n",
       "    .dataframe tbody tr th {\n",
       "        vertical-align: top;\n",
       "    }\n",
       "\n",
       "    .dataframe thead th {\n",
       "        text-align: right;\n",
       "    }\n",
       "</style>\n",
       "<table border=\"1\" class=\"dataframe\">\n",
       "  <thead>\n",
       "    <tr style=\"text-align: right;\">\n",
       "      <th></th>\n",
       "      <th>content</th>\n",
       "      <th>tokens</th>\n",
       "      <th>review</th>\n",
       "      <th>polarity</th>\n",
       "      <th>sentiment</th>\n",
       "      <th>label</th>\n",
       "    </tr>\n",
       "  </thead>\n",
       "  <tbody>\n",
       "    <tr>\n",
       "      <th>0</th>\n",
       "      <td>@soeyoto1 @msaid_didu Bukti kalau Pemerintahan...</td>\n",
       "      <td>['bukti', 'kalau', 'perintah', 'tidak', 'pro',...</td>\n",
       "      <td>bukti kalau perintah tidak pro rakyat pro olig...</td>\n",
       "      <td>-12</td>\n",
       "      <td>0</td>\n",
       "      <td>Negative</td>\n",
       "    </tr>\n",
       "    <tr>\n",
       "      <th>1</th>\n",
       "      <td>@KompasTV Mentri esdm, trus patokanmu apa? Kan...</td>\n",
       "      <td>['tri', 'esdm', 'trus', 'patok', 'apa', 'kanto...</td>\n",
       "      <td>tri esdm trus patok apa kantong pertamina udah...</td>\n",
       "      <td>-18</td>\n",
       "      <td>0</td>\n",
       "      <td>Negative</td>\n",
       "    </tr>\n",
       "    <tr>\n",
       "      <th>2</th>\n",
       "      <td>@hnurwahid Ngaku masih subsidi tapi ada swasta...</td>\n",
       "      <td>['ngaku', 'subsidi', 'ada', 'swasta', 'jua', '...</td>\n",
       "      <td>ngaku subsidi ada swasta jua lebih murah siapa...</td>\n",
       "      <td>-4</td>\n",
       "      <td>0</td>\n",
       "      <td>Negative</td>\n",
       "    </tr>\n",
       "    <tr>\n",
       "      <th>3</th>\n",
       "      <td>@Tan_Mar3M Kalau Vivo bisaberani bertahan deng...</td>\n",
       "      <td>['kalau', 'vivo', 'bisaberani', 'tahan', 'harg...</td>\n",
       "      <td>kalau vivo bisaberani tahan harga lama nasib p...</td>\n",
       "      <td>-3</td>\n",
       "      <td>0</td>\n",
       "      <td>Negative</td>\n",
       "    </tr>\n",
       "    <tr>\n",
       "      <th>4</th>\n",
       "      <td>Menteri BUMN Erick Thohir menegaskan persiapan...</td>\n",
       "      <td>['menteri', 'bumnerick', 'thohirmenegaskan', '...</td>\n",
       "      <td>menteri bumnerick thohirmenegaskan siap indone...</td>\n",
       "      <td>-5</td>\n",
       "      <td>0</td>\n",
       "      <td>Negative</td>\n",
       "    </tr>\n",
       "    <tr>\n",
       "      <th>...</th>\n",
       "      <td>...</td>\n",
       "      <td>...</td>\n",
       "      <td>...</td>\n",
       "      <td>...</td>\n",
       "      <td>...</td>\n",
       "      <td>...</td>\n",
       "    </tr>\n",
       "    <tr>\n",
       "      <th>6474</th>\n",
       "      <td>175 Produk UMKM Binaan Pertamina Go Global, Ik...</td>\n",
       "      <td>['produk', 'umkm', 'bin', 'pertamina', 'global...</td>\n",
       "      <td>produk umkm bin pertamina global ikut festival...</td>\n",
       "      <td>0</td>\n",
       "      <td>1</td>\n",
       "      <td>Positive</td>\n",
       "    </tr>\n",
       "    <tr>\n",
       "      <th>6475</th>\n",
       "      <td>PT Pertamina Patra Niaga, Sub Holding Commerci...</td>\n",
       "      <td>['pertamina', 'patra', 'niaga', 'sub', 'holdin...</td>\n",
       "      <td>pertamina patra niaga sub holding comercial tr...</td>\n",
       "      <td>4</td>\n",
       "      <td>1</td>\n",
       "      <td>Positive</td>\n",
       "    </tr>\n",
       "    <tr>\n",
       "      <th>6476</th>\n",
       "      <td>Pemerintah Provinsi Papua Barat sedang mengupa...</td>\n",
       "      <td>['perintah', 'provinsi', 'papua', 'barat', 'up...</td>\n",
       "      <td>perintah provinsi papua barat upaya ajak perta...</td>\n",
       "      <td>-28</td>\n",
       "      <td>0</td>\n",
       "      <td>Negative</td>\n",
       "    </tr>\n",
       "    <tr>\n",
       "      <th>6477</th>\n",
       "      <td>terhitung mulai 1 September 2020 pukul 00.00 w...</td>\n",
       "      <td>['hitung', 'mulai', 'september', 'pukul', 'per...</td>\n",
       "      <td>hitung mulai september pukul pertamina resmi s...</td>\n",
       "      <td>8</td>\n",
       "      <td>1</td>\n",
       "      <td>Positive</td>\n",
       "    </tr>\n",
       "    <tr>\n",
       "      <th>6478</th>\n",
       "      <td>Pemerintah Provinsi Papua Barat sedang mengupa...</td>\n",
       "      <td>['perintah', 'provinsi', 'papua', 'barat', 'up...</td>\n",
       "      <td>perintah provinsi papua barat upaya mengaet pe...</td>\n",
       "      <td>-16</td>\n",
       "      <td>0</td>\n",
       "      <td>Negative</td>\n",
       "    </tr>\n",
       "  </tbody>\n",
       "</table>\n",
       "<p>6479 rows × 6 columns</p>\n",
       "</div>"
      ],
      "text/plain": [
       "                                                content  \\\n",
       "0     @soeyoto1 @msaid_didu Bukti kalau Pemerintahan...   \n",
       "1     @KompasTV Mentri esdm, trus patokanmu apa? Kan...   \n",
       "2     @hnurwahid Ngaku masih subsidi tapi ada swasta...   \n",
       "3     @Tan_Mar3M Kalau Vivo bisaberani bertahan deng...   \n",
       "4     Menteri BUMN Erick Thohir menegaskan persiapan...   \n",
       "...                                                 ...   \n",
       "6474  175 Produk UMKM Binaan Pertamina Go Global, Ik...   \n",
       "6475  PT Pertamina Patra Niaga, Sub Holding Commerci...   \n",
       "6476  Pemerintah Provinsi Papua Barat sedang mengupa...   \n",
       "6477  terhitung mulai 1 September 2020 pukul 00.00 w...   \n",
       "6478  Pemerintah Provinsi Papua Barat sedang mengupa...   \n",
       "\n",
       "                                                 tokens  \\\n",
       "0     ['bukti', 'kalau', 'perintah', 'tidak', 'pro',...   \n",
       "1     ['tri', 'esdm', 'trus', 'patok', 'apa', 'kanto...   \n",
       "2     ['ngaku', 'subsidi', 'ada', 'swasta', 'jua', '...   \n",
       "3     ['kalau', 'vivo', 'bisaberani', 'tahan', 'harg...   \n",
       "4     ['menteri', 'bumnerick', 'thohirmenegaskan', '...   \n",
       "...                                                 ...   \n",
       "6474  ['produk', 'umkm', 'bin', 'pertamina', 'global...   \n",
       "6475  ['pertamina', 'patra', 'niaga', 'sub', 'holdin...   \n",
       "6476  ['perintah', 'provinsi', 'papua', 'barat', 'up...   \n",
       "6477  ['hitung', 'mulai', 'september', 'pukul', 'per...   \n",
       "6478  ['perintah', 'provinsi', 'papua', 'barat', 'up...   \n",
       "\n",
       "                                                 review  polarity  sentiment  \\\n",
       "0     bukti kalau perintah tidak pro rakyat pro olig...       -12          0   \n",
       "1     tri esdm trus patok apa kantong pertamina udah...       -18          0   \n",
       "2     ngaku subsidi ada swasta jua lebih murah siapa...        -4          0   \n",
       "3     kalau vivo bisaberani tahan harga lama nasib p...        -3          0   \n",
       "4     menteri bumnerick thohirmenegaskan siap indone...        -5          0   \n",
       "...                                                 ...       ...        ...   \n",
       "6474  produk umkm bin pertamina global ikut festival...         0          1   \n",
       "6475  pertamina patra niaga sub holding comercial tr...         4          1   \n",
       "6476  perintah provinsi papua barat upaya ajak perta...       -28          0   \n",
       "6477  hitung mulai september pukul pertamina resmi s...         8          1   \n",
       "6478  perintah provinsi papua barat upaya mengaet pe...       -16          0   \n",
       "\n",
       "         label  \n",
       "0     Negative  \n",
       "1     Negative  \n",
       "2     Negative  \n",
       "3     Negative  \n",
       "4     Negative  \n",
       "...        ...  \n",
       "6474  Positive  \n",
       "6475  Positive  \n",
       "6476  Negative  \n",
       "6477  Positive  \n",
       "6478  Negative  \n",
       "\n",
       "[6479 rows x 6 columns]"
      ]
     },
     "execution_count": 11,
     "metadata": {},
     "output_type": "execute_result"
    }
   ],
   "source": [
    "df = pd.read_csv(processed_target_path, delimiter=';')\n",
    "\n",
    "df['polarity'] = df['review'].swifter.apply(determine_polarity)\n",
    "df['sentiment'] = df['polarity'].swifter.apply(sentiment_analyze)\n",
    "df['label'] = df['sentiment'].swifter.apply(lambda x: 'Negative' if x < 1 else 'Positive')\n",
    "\n",
    "df.to_csv(output_path, index=False, header=True, sep=';')\n",
    "\n",
    "df[['content', 'tokens', 'review', 'polarity', 'sentiment', 'label']]"
   ]
  },
  {
   "cell_type": "code",
   "execution_count": 12,
   "metadata": {},
   "outputs": [
    {
     "name": "stdout",
     "output_type": "stream",
     "text": [
      "Negative    4140\n",
      "Positive    2339\n",
      "Name: label, dtype: int64\n"
     ]
    },
    {
     "data": {
      "image/png": "[encoded data removed]",
      "text/plain": [
       "<Figure size 640x480 with 1 Axes>"
      ]
     },
     "metadata": {},
     "output_type": "display_data"
    }
   ],
   "source": [
    "\n",
    "print(df['label'].value_counts())\n",
    "\n",
    "# make bar plot from negative and positive lexicon\n",
    "sns.countplot(x='label', data=df)\n",
    "plt.title('Supervised Data Original')\n",
    "plt.show()"
   ]
  },
  {
   "cell_type": "code",
   "execution_count": 13,
   "metadata": {},
   "outputs": [],
   "source": [
    "def downsampling(df):\n",
    "\tdf_minority = df[df.sentiment==1]\n",
    "\tdf_minority_size = df_minority.shape[0]\n",
    "\n",
    "\tdf_majority = df[df.sentiment==0]\n",
    "\tdf_majority_size = df_majority.shape[0]\n",
    "\tdf_majority_subject = df_majority.sample(n=df_minority_size, random_state=687)\n",
    "\n",
    "\tdf_balanced\t= pd.concat([df_majority_subject, df_minority])\n",
    "\tdf_balanced.to_csv('../dataset/processed/supervised_tweets_downsampled.csv', index=False, header=True, sep=';')\n",
    "\treturn df_balanced\n",
    "\n",
    "def upsampling(df):\n",
    "\tdf_majority = df[df.sentiment==0]\n",
    "\tdf_minority = df[df.sentiment==1]\n",
    "\tdf_minority_upsampled = resample(df_minority,\n",
    "\t\t\t\t\t\t\t\t\t\t\t\t\t\t\t\t\t\t\treplace=True,\n",
    "\t\t\t\t\t\t\t\t\t\t\t\t\t\t\t\t\t\t\tn_samples=len(df_majority),\n",
    "\t\t\t\t\t\t\t\t\t\t\t\t\t\t\t\t\t\t\trandom_state=687)\n",
    "\tdf_balanced = pd.concat([df_majority, df_minority_upsampled])\n",
    "\tdf_balanced.to_csv('../dataset/processed/supervised_tweets_upsampled.csv', index=False, header=True, sep=';')\n",
    "\treturn df_balanced"
   ]
  },
  {
   "cell_type": "code",
   "execution_count": 14,
   "metadata": {},
   "outputs": [
    {
     "name": "stdout",
     "output_type": "stream",
     "text": [
      "Negative    4140\n",
      "Positive    4140\n",
      "Name: label, dtype: int64\n"
     ]
    },
    {
     "data": {
      "image/png": "[encoded data removed]",
      "text/plain": [
       "<Figure size 640x480 with 1 Axes>"
      ]
     },
     "metadata": {},
     "output_type": "display_data"
    }
   ],
   "source": [
    "df_upsampled = upsampling(df)\n",
    "print(df_upsampled['label'].value_counts())\n",
    "\n",
    "# make bar plot from negative and positive sentiment\n",
    "sns.countplot(x='label', data=df_upsampled)\n",
    "plt.title('Sentiment Data Upsampled')\n",
    "plt.show()"
   ]
  },
  {
   "cell_type": "code",
   "execution_count": 15,
   "metadata": {},
   "outputs": [
    {
     "name": "stdout",
     "output_type": "stream",
     "text": [
      "Negative    2339\n",
      "Positive    2339\n",
      "Name: label, dtype: int64\n"
     ]
    },
    {
     "data": {
      "image/png": "[encoded data removed]",
      "text/plain": [
       "<Figure size 640x480 with 1 Axes>"
      ]
     },
     "metadata": {},
     "output_type": "display_data"
    }
   ],
   "source": [
    "df_downsampled = downsampling(df)\n",
    "print(df_downsampled['label'].value_counts())\n",
    "\n",
    "# make bar plot from negative and positive sentiment\n",
    "sns.countplot(x='label', data=df_downsampled)\n",
    "plt.title('Sentiment Data Downsampled')\n",
    "plt.show()"
   ]
  },
  {
   "cell_type": "code",
   "execution_count": 17,
   "metadata": {},
   "outputs": [
    {
     "name": "stdout",
     "output_type": "stream",
     "text": [
      "-3\n"
     ]
    }
   ],
   "source": [
    "text = 'tidak cinta pertamina'\n",
    "print(determine_polarity(text))"
   ]
  }
 ],
 "metadata": {
  "kernelspec": {
   "display_name": "venv",
   "language": "python",
   "name": "python3"
  },
  "language_info": {
   "codemirror_mode": {
    "name": "ipython",
    "version": 3
   },
   "file_extension": ".py",
   "mimetype": "text/x-python",
   "name": "python",
   "nbconvert_exporter": "python",
   "pygments_lexer": "ipython3",
   "version": "3.10.9"
  },
  "orig_nbformat": 4,
  "vscode": {
   "interpreter": {
    "hash": "85fe51655c1fcaa9a7b9c0223583abd4e8b4409b0fbdb1dc760dec4edd874462"
   }
  }
 },
 "nbformat": 4,
 "nbformat_minor": 2
}
