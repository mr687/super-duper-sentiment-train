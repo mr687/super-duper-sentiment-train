{
 "cells": [
  {
   "attachments": {},
   "cell_type": "markdown",
   "metadata": {},
   "source": [
    "# Clustering: Data Labeling"
   ]
  },
  {
   "cell_type": "code",
   "execution_count": 1,
   "metadata": {},
   "outputs": [],
   "source": [
    "import pandas as pd\n",
    "import numpy as np\n",
    "import matplotlib.pyplot as plt\n",
    "import seaborn as sns\n",
    "\n",
    "import swifter\n",
    "\n",
    "from ast import literal_eval\n",
    "from nltk.tokenize import word_tokenize\n",
    "from nltk.tokenize.treebank import TreebankWordDetokenizer\n",
    "\n",
    "from sklearn.feature_extraction.text import CountVectorizer\n",
    "from sklearn.utils import resample"
   ]
  },
  {
   "cell_type": "code",
   "execution_count": 2,
   "metadata": {},
   "outputs": [],
   "source": [
    "indoset_lexicon_neg_path = '../dataset/wordlist/indoset_lexicon_neg.csv'\n",
    "indoset_lexicon_pos_path = '../dataset/wordlist/indoset_lexicon_pos.csv'\n",
    "vulgarity_lexicon_path = '../dataset/wordlist/vulgarity_lexicon.csv'\n",
    "\n",
    "target = 'tweets.csv'\n",
    "processed_target_path = f'../dataset/processed/processed_{target}'\n",
    "output_path = f'../dataset/processed/supervised_{target}'"
   ]
  },
  {
   "cell_type": "code",
   "execution_count": 3,
   "metadata": {},
   "outputs": [
    {
     "name": "stdout",
     "output_type": "stream",
     "text": [
      "Total lexicon neg: 6609\n",
      "Total lexicon pos: 3609\n",
      "Total lexicon vulgarity: 62\n"
     ]
    }
   ],
   "source": [
    "indoset_lexicon_neg = pd.read_csv(indoset_lexicon_neg_path, delimiter='\\t')\n",
    "indoset_lexicon_pos = pd.read_csv(indoset_lexicon_pos_path, delimiter='\\t')\n",
    "vulgarity_lexicon = pd.read_csv(vulgarity_lexicon_path, header=None, delimiter='\\t')\n",
    "\n",
    "print(f\"Total lexicon neg:\", len(indoset_lexicon_neg))\n",
    "print(f\"Total lexicon pos:\", len(indoset_lexicon_pos))\n",
    "print(f\"Total lexicon vulgarity:\", len(vulgarity_lexicon))"
   ]
  },
  {
   "cell_type": "code",
   "execution_count": 4,
   "metadata": {},
   "outputs": [
    {
     "name": "stdout",
     "output_type": "stream",
     "text": [
      "9112\n"
     ]
    },
    {
     "data": {
      "text/html": [
       "<div>\n",
       "<style scoped>\n",
       "    .dataframe tbody tr th:only-of-type {\n",
       "        vertical-align: middle;\n",
       "    }\n",
       "\n",
       "    .dataframe tbody tr th {\n",
       "        vertical-align: top;\n",
       "    }\n",
       "\n",
       "    .dataframe thead th {\n",
       "        text-align: right;\n",
       "    }\n",
       "</style>\n",
       "<table border=\"1\" class=\"dataframe\">\n",
       "  <thead>\n",
       "    <tr style=\"text-align: right;\">\n",
       "      <th></th>\n",
       "      <th>word</th>\n",
       "      <th>weight</th>\n",
       "    </tr>\n",
       "  </thead>\n",
       "  <tbody>\n",
       "    <tr>\n",
       "      <th>0</th>\n",
       "      <td>hai</td>\n",
       "      <td>3</td>\n",
       "    </tr>\n",
       "    <tr>\n",
       "      <th>1</th>\n",
       "      <td>merekam</td>\n",
       "      <td>2</td>\n",
       "    </tr>\n",
       "    <tr>\n",
       "      <th>2</th>\n",
       "      <td>ekstensif</td>\n",
       "      <td>3</td>\n",
       "    </tr>\n",
       "    <tr>\n",
       "      <th>3</th>\n",
       "      <td>paripurna</td>\n",
       "      <td>1</td>\n",
       "    </tr>\n",
       "    <tr>\n",
       "      <th>4</th>\n",
       "      <td>detail</td>\n",
       "      <td>2</td>\n",
       "    </tr>\n",
       "    <tr>\n",
       "      <th>...</th>\n",
       "      <td>...</td>\n",
       "      <td>...</td>\n",
       "    </tr>\n",
       "    <tr>\n",
       "      <th>9107</th>\n",
       "      <td>silit</td>\n",
       "      <td>-5</td>\n",
       "    </tr>\n",
       "    <tr>\n",
       "      <th>9108</th>\n",
       "      <td>sintiang</td>\n",
       "      <td>-5</td>\n",
       "    </tr>\n",
       "    <tr>\n",
       "      <th>9109</th>\n",
       "      <td>sontoloyo</td>\n",
       "      <td>-5</td>\n",
       "    </tr>\n",
       "    <tr>\n",
       "      <th>9110</th>\n",
       "      <td>syaithon</td>\n",
       "      <td>-5</td>\n",
       "    </tr>\n",
       "    <tr>\n",
       "      <th>9111</th>\n",
       "      <td>telek</td>\n",
       "      <td>-5</td>\n",
       "    </tr>\n",
       "  </tbody>\n",
       "</table>\n",
       "<p>9112 rows × 2 columns</p>\n",
       "</div>"
      ],
      "text/plain": [
       "           word  weight\n",
       "0           hai       3\n",
       "1       merekam       2\n",
       "2     ekstensif       3\n",
       "3     paripurna       1\n",
       "4        detail       2\n",
       "...         ...     ...\n",
       "9107      silit      -5\n",
       "9108   sintiang      -5\n",
       "9109  sontoloyo      -5\n",
       "9110   syaithon      -5\n",
       "9111      telek      -5\n",
       "\n",
       "[9112 rows x 2 columns]"
      ]
     },
     "execution_count": 4,
     "metadata": {},
     "output_type": "execute_result"
    }
   ],
   "source": [
    "def update_lexicon_row(row=None, col_name=\"\", df=pd.DataFrame(), pkey=\"\"):\n",
    "\ttry:\n",
    "\t\tmatch_index = df.loc[df[pkey] == col_name].index[0]\n",
    "\t\trow = df.loc[match_index]\n",
    "\texcept IndexError:\n",
    "\t\tpass\n",
    "\tfinally:\n",
    "\t\treturn row\n",
    "\n",
    "def combine_lexicons(parent_lex, child_lex, pkey):\n",
    "\tfiltered_lex = child_lex[child_lex[pkey].isin(parent_lex[pkey])]\n",
    "\tparent_lex[parent_lex[pkey].isin(child_lex[pkey])] = parent_lex[parent_lex[pkey].isin(child_lex[pkey])].apply(lambda row: update_lexicon_row(row, row[pkey], filtered_lex, pkey), axis=1)\n",
    "\tparent_lex = pd.concat([parent_lex, child_lex]).drop_duplicates(subset=[pkey])\n",
    "\treturn parent_lex.reset_index(drop=True)\n",
    "\n",
    "lexicon_dict = combine_lexicons(indoset_lexicon_pos, indoset_lexicon_neg, 'word')\n",
    "\n",
    "vulgarity_lexicon_weight = [-5 for word in vulgarity_lexicon[0]]\n",
    "vulgarity_lexicon = pd.DataFrame(list(zip(vulgarity_lexicon[0],vulgarity_lexicon_weight)),columns =['word','weight'])\n",
    "\n",
    "\n",
    "lexicon_dict = combine_lexicons(lexicon_dict, vulgarity_lexicon, 'word')\n",
    "print(len(lexicon_dict))\n",
    "lexicon_dict"
   ]
  },
  {
   "cell_type": "code",
   "execution_count": 5,
   "metadata": {},
   "outputs": [
    {
     "name": "stdout",
     "output_type": "stream",
     "text": [
      "Total negative lexicon: 6645\n",
      "Total positive lexicon: 2467\n"
     ]
    },
    {
     "data": {
      "image/png": "[encoded data removed]",
      "text/plain": [
       "<Figure size 1000x500 with 2 Axes>"
      ]
     },
     "metadata": {},
     "output_type": "display_data"
    }
   ],
   "source": [
    "# count how many negative words in lexicon_dict\n",
    "neg_lexicon = lexicon_dict[lexicon_dict['weight'] < 0]\n",
    "pos_lexicon = lexicon_dict[lexicon_dict['weight'] >= 0]\n",
    "print(f\"Total negative lexicon:\", len(neg_lexicon))\n",
    "print(f\"Total positive lexicon:\", len(pos_lexicon))\n",
    "\n",
    "plt.figure(figsize=(10,5))\n",
    "# make bar plot from negative and positive lexicon\n",
    "plt.subplot(1,2,1)\n",
    "sns.barplot(x=['negative','positive'], y=[len(neg_lexicon), len(pos_lexicon)])\n",
    "plt.title('Lexicon Distribution')\n",
    "# visualize the amount of negative and positive words based on weight in lexicon_dict\n",
    "plt.subplot(1,2,2)\n",
    "sns.countplot(x='weight', data=lexicon_dict)\n",
    "plt.title('Lexicon Distribution')\n",
    "plt.show()"
   ]
  },
  {
   "cell_type": "code",
   "execution_count": 6,
   "metadata": {},
   "outputs": [],
   "source": [
    "def case_folding(text):\n",
    "    return text.lower()\n",
    "    \n",
    "def num_of_words(item):\n",
    "    words = word_tokenize(item['word'])\n",
    "    number = len(words)\n",
    "    return number"
   ]
  },
  {
   "cell_type": "code",
   "execution_count": 7,
   "metadata": {},
   "outputs": [
    {
     "data": {
      "application/vnd.jupyter.widget-view+json": {
       "model_id": "995fb0890b4942119306f3ef3255db11",
       "version_major": 2,
       "version_minor": 0
      },
      "text/plain": [
       "Pandas Apply:   0%|          | 0/9112 [00:00<?, ?it/s]"
      ]
     },
     "metadata": {},
     "output_type": "display_data"
    },
    {
     "data": {
      "application/vnd.jupyter.widget-view+json": {
       "model_id": "b1685a35276042c094c297242f0a5d08",
       "version_major": 2,
       "version_minor": 0
      },
      "text/plain": [
       "Pandas Apply:   0%|          | 0/9112 [00:00<?, ?it/s]"
      ]
     },
     "metadata": {},
     "output_type": "display_data"
    },
    {
     "name": "stdout",
     "output_type": "stream",
     "text": [
      "9109\n"
     ]
    },
    {
     "data": {
      "text/html": [
       "<div>\n",
       "<style scoped>\n",
       "    .dataframe tbody tr th:only-of-type {\n",
       "        vertical-align: middle;\n",
       "    }\n",
       "\n",
       "    .dataframe tbody tr th {\n",
       "        vertical-align: top;\n",
       "    }\n",
       "\n",
       "    .dataframe thead th {\n",
       "        text-align: right;\n",
       "    }\n",
       "</style>\n",
       "<table border=\"1\" class=\"dataframe\">\n",
       "  <thead>\n",
       "    <tr style=\"text-align: right;\">\n",
       "      <th></th>\n",
       "      <th>word</th>\n",
       "      <th>weight</th>\n",
       "      <th>num_of_words</th>\n",
       "    </tr>\n",
       "  </thead>\n",
       "  <tbody>\n",
       "    <tr>\n",
       "      <th>3449</th>\n",
       "      <td>mencemaskan</td>\n",
       "      <td>-3</td>\n",
       "      <td>1</td>\n",
       "    </tr>\n",
       "    <tr>\n",
       "      <th>7823</th>\n",
       "      <td>celaan</td>\n",
       "      <td>-5</td>\n",
       "      <td>1</td>\n",
       "    </tr>\n",
       "    <tr>\n",
       "      <th>2019</th>\n",
       "      <td>ansar</td>\n",
       "      <td>4</td>\n",
       "      <td>1</td>\n",
       "    </tr>\n",
       "    <tr>\n",
       "      <th>5366</th>\n",
       "      <td>umbar</td>\n",
       "      <td>-3</td>\n",
       "      <td>1</td>\n",
       "    </tr>\n",
       "    <tr>\n",
       "      <th>3476</th>\n",
       "      <td>bedah</td>\n",
       "      <td>-3</td>\n",
       "      <td>1</td>\n",
       "    </tr>\n",
       "  </tbody>\n",
       "</table>\n",
       "</div>"
      ],
      "text/plain": [
       "             word  weight  num_of_words\n",
       "3449  mencemaskan      -3             1\n",
       "7823       celaan      -5             1\n",
       "2019        ansar       4             1\n",
       "5366        umbar      -3             1\n",
       "3476        bedah      -3             1"
      ]
     },
     "execution_count": 7,
     "metadata": {},
     "output_type": "execute_result"
    }
   ],
   "source": [
    "lexicon_dict['word'] = lexicon_dict['word'].swifter.apply(case_folding)\n",
    "lexicon_dict['num_of_words'] = lexicon_dict.swifter.apply(num_of_words, axis=1)\n",
    "lexicon_dict = lexicon_dict.drop(lexicon_dict[lexicon_dict['num_of_words'] == 0].index, axis=0)\n",
    "lexicon_dict.drop_duplicates(subset=['word'], keep='first',inplace=True)\n",
    "lexicon_dict = lexicon_dict.reset_index(drop=True)\n",
    "\n",
    "print(len(lexicon_dict))\n",
    "lexicon_dict.sample(5)"
   ]
  },
  {
   "cell_type": "code",
   "execution_count": 8,
   "metadata": {},
   "outputs": [
    {
     "data": {
      "text/html": [
       "<div>\n",
       "<style scoped>\n",
       "    .dataframe tbody tr th:only-of-type {\n",
       "        vertical-align: middle;\n",
       "    }\n",
       "\n",
       "    .dataframe tbody tr th {\n",
       "        vertical-align: top;\n",
       "    }\n",
       "\n",
       "    .dataframe thead th {\n",
       "        text-align: right;\n",
       "    }\n",
       "</style>\n",
       "<table border=\"1\" class=\"dataframe\">\n",
       "  <thead>\n",
       "    <tr style=\"text-align: right;\">\n",
       "      <th></th>\n",
       "      <th>word</th>\n",
       "      <th>weight</th>\n",
       "      <th>num_of_words</th>\n",
       "    </tr>\n",
       "  </thead>\n",
       "  <tbody>\n",
       "    <tr>\n",
       "      <th>0</th>\n",
       "      <td>hai</td>\n",
       "      <td>3</td>\n",
       "      <td>1</td>\n",
       "    </tr>\n",
       "    <tr>\n",
       "      <th>1</th>\n",
       "      <td>merekam</td>\n",
       "      <td>2</td>\n",
       "      <td>1</td>\n",
       "    </tr>\n",
       "    <tr>\n",
       "      <th>2</th>\n",
       "      <td>ekstensif</td>\n",
       "      <td>3</td>\n",
       "      <td>1</td>\n",
       "    </tr>\n",
       "    <tr>\n",
       "      <th>3</th>\n",
       "      <td>paripurna</td>\n",
       "      <td>1</td>\n",
       "      <td>1</td>\n",
       "    </tr>\n",
       "    <tr>\n",
       "      <th>4</th>\n",
       "      <td>detail</td>\n",
       "      <td>2</td>\n",
       "      <td>1</td>\n",
       "    </tr>\n",
       "    <tr>\n",
       "      <th>...</th>\n",
       "      <td>...</td>\n",
       "      <td>...</td>\n",
       "      <td>...</td>\n",
       "    </tr>\n",
       "    <tr>\n",
       "      <th>9104</th>\n",
       "      <td>silit</td>\n",
       "      <td>-5</td>\n",
       "      <td>1</td>\n",
       "    </tr>\n",
       "    <tr>\n",
       "      <th>9105</th>\n",
       "      <td>sintiang</td>\n",
       "      <td>-5</td>\n",
       "      <td>1</td>\n",
       "    </tr>\n",
       "    <tr>\n",
       "      <th>9106</th>\n",
       "      <td>sontoloyo</td>\n",
       "      <td>-5</td>\n",
       "      <td>1</td>\n",
       "    </tr>\n",
       "    <tr>\n",
       "      <th>9107</th>\n",
       "      <td>syaithon</td>\n",
       "      <td>-5</td>\n",
       "      <td>1</td>\n",
       "    </tr>\n",
       "    <tr>\n",
       "      <th>9108</th>\n",
       "      <td>telek</td>\n",
       "      <td>-5</td>\n",
       "      <td>1</td>\n",
       "    </tr>\n",
       "  </tbody>\n",
       "</table>\n",
       "<p>8432 rows × 3 columns</p>\n",
       "</div>"
      ],
      "text/plain": [
       "           word  weight  num_of_words\n",
       "0           hai       3             1\n",
       "1       merekam       2             1\n",
       "2     ekstensif       3             1\n",
       "3     paripurna       1             1\n",
       "4        detail       2             1\n",
       "...         ...     ...           ...\n",
       "9104      silit      -5             1\n",
       "9105   sintiang      -5             1\n",
       "9106  sontoloyo      -5             1\n",
       "9107   syaithon      -5             1\n",
       "9108      telek      -5             1\n",
       "\n",
       "[8432 rows x 3 columns]"
      ]
     },
     "execution_count": 8,
     "metadata": {},
     "output_type": "execute_result"
    }
   ],
   "source": [
    "lexicon_dict.to_csv('../dataset/wordlist/lexicon_dict_all.csv', index=False)\n",
    "\n",
    "lexicon_dict = lexicon_dict[lexicon_dict['num_of_words'].map(lambda x: x) < 2]\n",
    "lexicon_dict"
   ]
  },
  {
   "cell_type": "code",
   "execution_count": 9,
   "metadata": {},
   "outputs": [],
   "source": [
    "lexicon = dict(zip(lexicon_dict['word'], lexicon_dict['weight']))\n",
    "vectorizer = CountVectorizer(vocabulary=lexicon.keys(), ngram_range=(1, 1))\n",
    "\n",
    "def detokenize(tokens):\n",
    "\treturn TreebankWordDetokenizer().detokenize(tokens)\n",
    "\n",
    "def determine_polarity(text):\n",
    "\tbow_matrix = vectorizer.fit_transform([text]).toarray()\n",
    "\t\n",
    "\tpolarity = 0\n",
    "\tfor word, score in zip(vectorizer.get_feature_names_out(), bow_matrix[0]):\n",
    "\t\tpolarity += lexicon[word] * score\n",
    "\treturn polarity\n",
    "\n",
    "def sentiment_analyze(polarity):\n",
    "\treturn 1 if polarity >= 0 else 0"
   ]
  },
  {
   "cell_type": "code",
   "execution_count": 10,
   "metadata": {},
   "outputs": [
    {
     "data": {
      "application/vnd.jupyter.widget-view+json": {
       "model_id": "767ac712caa149479f12ff096c9a94b2",
       "version_major": 2,
       "version_minor": 0
      },
      "text/plain": [
       "Pandas Apply:   0%|          | 0/7079 [00:00<?, ?it/s]"
      ]
     },
     "metadata": {},
     "output_type": "display_data"
    },
    {
     "data": {
      "application/vnd.jupyter.widget-view+json": {
       "model_id": "885bc12e0436480d9ad82ccdf420a4b6",
       "version_major": 2,
       "version_minor": 0
      },
      "text/plain": [
       "Pandas Apply:   0%|          | 0/7079 [00:00<?, ?it/s]"
      ]
     },
     "metadata": {},
     "output_type": "display_data"
    },
    {
     "data": {
      "application/vnd.jupyter.widget-view+json": {
       "model_id": "adde3adb21e74fce8caf71936d51f994",
       "version_major": 2,
       "version_minor": 0
      },
      "text/plain": [
       "Pandas Apply:   0%|          | 0/7079 [00:00<?, ?it/s]"
      ]
     },
     "metadata": {},
     "output_type": "display_data"
    },
    {
     "data": {
      "text/html": [
       "<div>\n",
       "<style scoped>\n",
       "    .dataframe tbody tr th:only-of-type {\n",
       "        vertical-align: middle;\n",
       "    }\n",
       "\n",
       "    .dataframe tbody tr th {\n",
       "        vertical-align: top;\n",
       "    }\n",
       "\n",
       "    .dataframe thead th {\n",
       "        text-align: right;\n",
       "    }\n",
       "</style>\n",
       "<table border=\"1\" class=\"dataframe\">\n",
       "  <thead>\n",
       "    <tr style=\"text-align: right;\">\n",
       "      <th></th>\n",
       "      <th>content</th>\n",
       "      <th>tokens_ready</th>\n",
       "      <th>review</th>\n",
       "      <th>polarity</th>\n",
       "      <th>sentiment</th>\n",
       "      <th>label</th>\n",
       "    </tr>\n",
       "  </thead>\n",
       "  <tbody>\n",
       "    <tr>\n",
       "      <th>0</th>\n",
       "      <td>@soeyoto1 @msaid_didu Bukti kalau Pemerintahan...</td>\n",
       "      <td>['bukti', 'perintah', 'pro', 'rakyat', 'pro', ...</td>\n",
       "      <td>bukti perintah pro rakyat pro oligarki bbmnya ...</td>\n",
       "      <td>-7</td>\n",
       "      <td>0</td>\n",
       "      <td>Negative</td>\n",
       "    </tr>\n",
       "    <tr>\n",
       "      <th>1</th>\n",
       "      <td>@KompasTV Mentri esdm, trus patokanmu apa? Kan...</td>\n",
       "      <td>['menteri', 'esdm', 'patok', 'kantong', 'jebol...</td>\n",
       "      <td>menteri esdm patok kantong jebol korupsi imbas...</td>\n",
       "      <td>-9</td>\n",
       "      <td>0</td>\n",
       "      <td>Negative</td>\n",
       "    </tr>\n",
       "    <tr>\n",
       "      <th>2</th>\n",
       "      <td>@hnurwahid Ngaku masih subsidi tapi ada swasta...</td>\n",
       "      <td>['subsidi', 'swasta', 'jual', 'murah', 'subsid...</td>\n",
       "      <td>subsidi swasta jual murah subsidi pimpin tukan...</td>\n",
       "      <td>-5</td>\n",
       "      <td>0</td>\n",
       "      <td>Negative</td>\n",
       "    </tr>\n",
       "    <tr>\n",
       "      <th>3</th>\n",
       "      <td>@Tan_Mar3M Kalau Vivo bisaberani bertahan deng...</td>\n",
       "      <td>['berani', 'tahan', 'harga', 'nasib']</td>\n",
       "      <td>berani tahan harga nasib</td>\n",
       "      <td>1</td>\n",
       "      <td>1</td>\n",
       "      <td>Positive</td>\n",
       "    </tr>\n",
       "    <tr>\n",
       "      <th>4</th>\n",
       "      <td>Menteri BUMN Erick Thohir menegaskan persiapan...</td>\n",
       "      <td>['menteri', 'bumn', 'erick', 'thohir', 'indone...</td>\n",
       "      <td>menteri bumn erick thohir indonesia transisi e...</td>\n",
       "      <td>-3</td>\n",
       "      <td>0</td>\n",
       "      <td>Negative</td>\n",
       "    </tr>\n",
       "    <tr>\n",
       "      <th>...</th>\n",
       "      <td>...</td>\n",
       "      <td>...</td>\n",
       "      <td>...</td>\n",
       "      <td>...</td>\n",
       "      <td>...</td>\n",
       "      <td>...</td>\n",
       "    </tr>\n",
       "    <tr>\n",
       "      <th>7074</th>\n",
       "      <td>175 Produk UMKM Binaan Pertamina Go Global, Ik...</td>\n",
       "      <td>['produk', 'umkm', 'bina', 'global', 'festival...</td>\n",
       "      <td>produk umkm bina global festival tong tong bel...</td>\n",
       "      <td>3</td>\n",
       "      <td>1</td>\n",
       "      <td>Positive</td>\n",
       "    </tr>\n",
       "    <tr>\n",
       "      <th>7075</th>\n",
       "      <td>PT Pertamina Patra Niaga, Sub Holding Commerci...</td>\n",
       "      <td>['patra', 'niaga', 'sub', 'holding', 'commerci...</td>\n",
       "      <td>patra niaga sub holding commercial trading per...</td>\n",
       "      <td>6</td>\n",
       "      <td>1</td>\n",
       "      <td>Positive</td>\n",
       "    </tr>\n",
       "    <tr>\n",
       "      <th>7076</th>\n",
       "      <td>Pemerintah Provinsi Papua Barat sedang mengupa...</td>\n",
       "      <td>['perintah', 'provinsi', 'papua', 'barat', 'up...</td>\n",
       "      <td>perintah provinsi papua barat upaya ajak antri...</td>\n",
       "      <td>-8</td>\n",
       "      <td>0</td>\n",
       "      <td>Negative</td>\n",
       "    </tr>\n",
       "    <tr>\n",
       "      <th>7077</th>\n",
       "      <td>terhitung mulai 1 September 2020 pukul 00.00 w...</td>\n",
       "      <td>['hitung', 'september', 'resmi', 'sesuai', 'tu...</td>\n",
       "      <td>hitung september resmi sesuai turun harga prod...</td>\n",
       "      <td>9</td>\n",
       "      <td>1</td>\n",
       "      <td>Positive</td>\n",
       "    </tr>\n",
       "    <tr>\n",
       "      <th>7078</th>\n",
       "      <td>Pemerintah Provinsi Papua Barat sedang mengupa...</td>\n",
       "      <td>['perintah', 'provinsi', 'papua', 'barat', 'up...</td>\n",
       "      <td>perintah provinsi papua barat upaya gaet antri...</td>\n",
       "      <td>-9</td>\n",
       "      <td>0</td>\n",
       "      <td>Negative</td>\n",
       "    </tr>\n",
       "  </tbody>\n",
       "</table>\n",
       "<p>7079 rows × 6 columns</p>\n",
       "</div>"
      ],
      "text/plain": [
       "                                                content  \\\n",
       "0     @soeyoto1 @msaid_didu Bukti kalau Pemerintahan...   \n",
       "1     @KompasTV Mentri esdm, trus patokanmu apa? Kan...   \n",
       "2     @hnurwahid Ngaku masih subsidi tapi ada swasta...   \n",
       "3     @Tan_Mar3M Kalau Vivo bisaberani bertahan deng...   \n",
       "4     Menteri BUMN Erick Thohir menegaskan persiapan...   \n",
       "...                                                 ...   \n",
       "7074  175 Produk UMKM Binaan Pertamina Go Global, Ik...   \n",
       "7075  PT Pertamina Patra Niaga, Sub Holding Commerci...   \n",
       "7076  Pemerintah Provinsi Papua Barat sedang mengupa...   \n",
       "7077  terhitung mulai 1 September 2020 pukul 00.00 w...   \n",
       "7078  Pemerintah Provinsi Papua Barat sedang mengupa...   \n",
       "\n",
       "                                           tokens_ready  \\\n",
       "0     ['bukti', 'perintah', 'pro', 'rakyat', 'pro', ...   \n",
       "1     ['menteri', 'esdm', 'patok', 'kantong', 'jebol...   \n",
       "2     ['subsidi', 'swasta', 'jual', 'murah', 'subsid...   \n",
       "3                 ['berani', 'tahan', 'harga', 'nasib']   \n",
       "4     ['menteri', 'bumn', 'erick', 'thohir', 'indone...   \n",
       "...                                                 ...   \n",
       "7074  ['produk', 'umkm', 'bina', 'global', 'festival...   \n",
       "7075  ['patra', 'niaga', 'sub', 'holding', 'commerci...   \n",
       "7076  ['perintah', 'provinsi', 'papua', 'barat', 'up...   \n",
       "7077  ['hitung', 'september', 'resmi', 'sesuai', 'tu...   \n",
       "7078  ['perintah', 'provinsi', 'papua', 'barat', 'up...   \n",
       "\n",
       "                                                 review  polarity  sentiment  \\\n",
       "0     bukti perintah pro rakyat pro oligarki bbmnya ...        -7          0   \n",
       "1     menteri esdm patok kantong jebol korupsi imbas...        -9          0   \n",
       "2     subsidi swasta jual murah subsidi pimpin tukan...        -5          0   \n",
       "3                              berani tahan harga nasib         1          1   \n",
       "4     menteri bumn erick thohir indonesia transisi e...        -3          0   \n",
       "...                                                 ...       ...        ...   \n",
       "7074  produk umkm bina global festival tong tong bel...         3          1   \n",
       "7075  patra niaga sub holding commercial trading per...         6          1   \n",
       "7076  perintah provinsi papua barat upaya ajak antri...        -8          0   \n",
       "7077  hitung september resmi sesuai turun harga prod...         9          1   \n",
       "7078  perintah provinsi papua barat upaya gaet antri...        -9          0   \n",
       "\n",
       "         label  \n",
       "0     Negative  \n",
       "1     Negative  \n",
       "2     Negative  \n",
       "3     Positive  \n",
       "4     Negative  \n",
       "...        ...  \n",
       "7074  Positive  \n",
       "7075  Positive  \n",
       "7076  Negative  \n",
       "7077  Positive  \n",
       "7078  Negative  \n",
       "\n",
       "[7079 rows x 6 columns]"
      ]
     },
     "execution_count": 10,
     "metadata": {},
     "output_type": "execute_result"
    }
   ],
   "source": [
    "df = pd.read_csv(processed_target_path, delimiter=';')\n",
    "\n",
    "df['polarity'] = df['review'].swifter.apply(determine_polarity)\n",
    "df['sentiment'] = df['polarity'].swifter.apply(sentiment_analyze)\n",
    "df['label'] = df['sentiment'].swifter.apply(lambda x: 'Negative' if x < 1 else 'Positive')\n",
    "\n",
    "df.to_csv(output_path, index=False, header=True, sep=';')\n",
    "\n",
    "df[['content', 'tokens_ready', 'review', 'polarity', 'sentiment', 'label']]"
   ]
  },
  {
   "cell_type": "code",
   "execution_count": 11,
   "metadata": {},
   "outputs": [
    {
     "name": "stdout",
     "output_type": "stream",
     "text": [
      "Negative    4840\n",
      "Positive    2239\n",
      "Name: label, dtype: int64\n"
     ]
    },
    {
     "data": {
      "image/png": "[encoded data removed]",
      "text/plain": [
       "<Figure size 640x480 with 1 Axes>"
      ]
     },
     "metadata": {},
     "output_type": "display_data"
    }
   ],
   "source": [
    "\n",
    "print(df['label'].value_counts())\n",
    "\n",
    "# make bar plot from negative and positive lexicon\n",
    "sns.countplot(x='label', data=df)\n",
    "plt.title('Supervised Data Original')\n",
    "plt.show()"
   ]
  },
  {
   "cell_type": "code",
   "execution_count": 12,
   "metadata": {},
   "outputs": [],
   "source": [
    "def downsampling(df):\n",
    "\tdf_minority = df[df.sentiment==1]\n",
    "\tdf_minority_size = df_minority.shape[0]\n",
    "\n",
    "\tdf_majority = df[df.sentiment==0]\n",
    "\tdf_majority_size = df_majority.shape[0]\n",
    "\tdf_majority_subject = df_majority.sample(n=df_minority_size, random_state=687)\n",
    "\n",
    "\tdf_balanced\t= pd.concat([df_majority_subject, df_minority])\n",
    "\tdf_balanced.to_csv('../dataset/processed/supervised_tweets_downsampled.csv', index=False, header=True, sep=';')\n",
    "\treturn df_balanced\n",
    "\n",
    "def upsampling(df):\n",
    "\tdf_majority = df[df.sentiment==0]\n",
    "\tdf_minority = df[df.sentiment==1]\n",
    "\tdf_minority_upsampled = resample(df_minority,\n",
    "\t\t\t\t\t\t\t\t\t\t\t\t\t\t\t\t\t\t\treplace=True,\n",
    "\t\t\t\t\t\t\t\t\t\t\t\t\t\t\t\t\t\t\tn_samples=len(df_majority),\n",
    "\t\t\t\t\t\t\t\t\t\t\t\t\t\t\t\t\t\t\trandom_state=687)\n",
    "\tdf_balanced = pd.concat([df_majority, df_minority_upsampled])\n",
    "\tdf_balanced.to_csv('../dataset/processed/supervised_tweets_upsampled.csv', index=False, header=True, sep=';')\n",
    "\treturn df_balanced"
   ]
  },
  {
   "cell_type": "code",
   "execution_count": 17,
   "metadata": {},
   "outputs": [
    {
     "name": "stdout",
     "output_type": "stream",
     "text": [
      "Negative    4840\n",
      "Positive    4840\n",
      "Name: label, dtype: int64\n"
     ]
    },
    {
     "data": {
      "image/png": "[encoded data removed]",
      "text/plain": [
       "<Figure size 640x480 with 1 Axes>"
      ]
     },
     "metadata": {},
     "output_type": "display_data"
    }
   ],
   "source": [
    "df_upsampled = upsampling(df)\n",
    "print(df_upsampled['label'].value_counts())\n",
    "\n",
    "# make bar plot from negative and positive sentiment\n",
    "sns.countplot(x='label', data=df_upsampled)\n",
    "plt.title('Sentiment Data Upsampled')\n",
    "plt.show()"
   ]
  },
  {
   "cell_type": "code",
   "execution_count": 16,
   "metadata": {},
   "outputs": [
    {
     "name": "stdout",
     "output_type": "stream",
     "text": [
      "Negative    2239\n",
      "Positive    2239\n",
      "Name: label, dtype: int64\n"
     ]
    },
    {
     "data": {
      "image/png": "[encoded data removed]",
      "text/plain": [
       "<Figure size 640x480 with 1 Axes>"
      ]
     },
     "metadata": {},
     "output_type": "display_data"
    }
   ],
   "source": [
    "df_downsampled = downsampling(df)\n",
    "print(df_downsampled['label'].value_counts())\n",
    "\n",
    "# make bar plot from negative and positive sentiment\n",
    "sns.countplot(x='label', data=df_downsampled)\n",
    "plt.title('Sentiment Data Downsampled')\n",
    "plt.show()"
   ]
  },
  {
   "cell_type": "code",
   "execution_count": 15,
   "metadata": {},
   "outputs": [
    {
     "name": "stdout",
     "output_type": "stream",
     "text": [
      "-5\n"
     ]
    }
   ],
   "source": [
    "text = 'benci perintah'\n",
    "print(determine_polarity(text))"
   ]
  }
 ],
 "metadata": {
  "kernelspec": {
   "display_name": "venv",
   "language": "python",
   "name": "python3"
  },
  "language_info": {
   "codemirror_mode": {
    "name": "ipython",
    "version": 3
   },
   "file_extension": ".py",
   "mimetype": "text/x-python",
   "name": "python",
   "nbconvert_exporter": "python",
   "pygments_lexer": "ipython3",
   "version": "3.10.9"
  },
  "orig_nbformat": 4,
  "vscode": {
   "interpreter": {
    "hash": "85fe51655c1fcaa9a7b9c0223583abd4e8b4409b0fbdb1dc760dec4edd874462"
   }
  }
 },
 "nbformat": 4,
 "nbformat_minor": 2
}
