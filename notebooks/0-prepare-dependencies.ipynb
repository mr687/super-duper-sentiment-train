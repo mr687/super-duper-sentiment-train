{
 "cells": [
  {
   "cell_type": "code",
   "execution_count": 1,
   "metadata": {},
   "outputs": [
    {
     "name": "stdout",
     "output_type": "stream",
     "text": [
      "Requirement already satisfied: snscrape in /Users/def/.dev/labs/skripsi_dapi/sentiment_analysis_model/venv/lib/python3.10/site-packages (0.4.3.20220106)\n",
      "Requirement already satisfied: beautifulsoup4 in /Users/def/.dev/labs/skripsi_dapi/sentiment_analysis_model/venv/lib/python3.10/site-packages (from snscrape) (4.11.1)\n",
      "Requirement already satisfied: requests[socks] in /Users/def/.dev/labs/skripsi_dapi/sentiment_analysis_model/venv/lib/python3.10/site-packages (from snscrape) (2.28.1)\n",
      "Requirement already satisfied: lxml in /Users/def/.dev/labs/skripsi_dapi/sentiment_analysis_model/venv/lib/python3.10/site-packages (from snscrape) (4.9.2)\n",
      "Requirement already satisfied: filelock in /Users/def/.dev/labs/skripsi_dapi/sentiment_analysis_model/venv/lib/python3.10/site-packages (from snscrape) (3.9.0)\n",
      "Requirement already satisfied: soupsieve>1.2 in /Users/def/.dev/labs/skripsi_dapi/sentiment_analysis_model/venv/lib/python3.10/site-packages (from beautifulsoup4->snscrape) (2.3.2.post1)\n",
      "Requirement already satisfied: certifi>=2017.4.17 in /Users/def/.dev/labs/skripsi_dapi/sentiment_analysis_model/venv/lib/python3.10/site-packages (from requests[socks]->snscrape) (2022.12.7)\n",
      "Requirement already satisfied: charset-normalizer<3,>=2 in /Users/def/.dev/labs/skripsi_dapi/sentiment_analysis_model/venv/lib/python3.10/site-packages (from requests[socks]->snscrape) (2.1.1)\n",
      "Requirement already satisfied: idna<4,>=2.5 in /Users/def/.dev/labs/skripsi_dapi/sentiment_analysis_model/venv/lib/python3.10/site-packages (from requests[socks]->snscrape) (3.4)\n",
      "Requirement already satisfied: urllib3<1.27,>=1.21.1 in /Users/def/.dev/labs/skripsi_dapi/sentiment_analysis_model/venv/lib/python3.10/site-packages (from requests[socks]->snscrape) (1.26.13)\n",
      "Requirement already satisfied: PySocks!=1.5.7,>=1.5.6 in /Users/def/.dev/labs/skripsi_dapi/sentiment_analysis_model/venv/lib/python3.10/site-packages (from requests[socks]->snscrape) (1.7.1)\n",
      "Note: you may need to restart the kernel to use updated packages.\n",
      "Requirement already satisfied: pandas in /Users/def/.dev/labs/skripsi_dapi/sentiment_analysis_model/venv/lib/python3.10/site-packages (1.5.2)\n",
      "Requirement already satisfied: python-dateutil>=2.8.1 in /Users/def/.dev/labs/skripsi_dapi/sentiment_analysis_model/venv/lib/python3.10/site-packages (from pandas) (2.8.2)\n",
      "Requirement already satisfied: pytz>=2020.1 in /Users/def/.dev/labs/skripsi_dapi/sentiment_analysis_model/venv/lib/python3.10/site-packages (from pandas) (2022.7)\n",
      "Requirement already satisfied: numpy>=1.21.0 in /Users/def/.dev/labs/skripsi_dapi/sentiment_analysis_model/venv/lib/python3.10/site-packages (from pandas) (1.24.1)\n",
      "Requirement already satisfied: six>=1.5 in /Users/def/.dev/labs/skripsi_dapi/sentiment_analysis_model/venv/lib/python3.10/site-packages (from python-dateutil>=2.8.1->pandas) (1.16.0)\n",
      "Note: you may need to restart the kernel to use updated packages.\n",
      "Requirement already satisfied: Sastrawi in /Users/def/.dev/labs/skripsi_dapi/sentiment_analysis_model/venv/lib/python3.10/site-packages (1.0.1)\n",
      "Note: you may need to restart the kernel to use updated packages.\n",
      "Requirement already satisfied: nltk in /Users/def/.dev/labs/skripsi_dapi/sentiment_analysis_model/venv/lib/python3.10/site-packages (3.8.1)\n",
      "Requirement already satisfied: regex>=2021.8.3 in /Users/def/.dev/labs/skripsi_dapi/sentiment_analysis_model/venv/lib/python3.10/site-packages (from nltk) (2022.10.31)\n",
      "Requirement already satisfied: tqdm in /Users/def/.dev/labs/skripsi_dapi/sentiment_analysis_model/venv/lib/python3.10/site-packages (from nltk) (4.64.1)\n",
      "Requirement already satisfied: click in /Users/def/.dev/labs/skripsi_dapi/sentiment_analysis_model/venv/lib/python3.10/site-packages (from nltk) (8.1.3)\n",
      "Requirement already satisfied: joblib in /Users/def/.dev/labs/skripsi_dapi/sentiment_analysis_model/venv/lib/python3.10/site-packages (from nltk) (1.2.0)\n",
      "Note: you may need to restart the kernel to use updated packages.\n",
      "Collecting swifter\n",
      "  Using cached swifter-1.3.4.tar.gz (830 kB)\n",
      "  Preparing metadata (setup.py) ... \u001b[?25ldone\n",
      "\u001b[?25hRequirement already satisfied: pandas>=1.0.0 in /Users/def/.dev/labs/skripsi_dapi/sentiment_analysis_model/venv/lib/python3.10/site-packages (from swifter) (1.5.2)\n",
      "Requirement already satisfied: psutil>=5.6.6 in /Users/def/.dev/labs/skripsi_dapi/sentiment_analysis_model/venv/lib/python3.10/site-packages (from swifter) (5.9.4)\n",
      "Collecting dask[dataframe]>=2.10.0\n",
      "  Downloading dask-2022.12.1-py3-none-any.whl (1.1 MB)\n",
      "\u001b[2K     \u001b[38;2;114;156;31m━━━━━━━━━━━━━━━━━━━━━━━━━━━━━━━━━━━━━━━━\u001b[0m \u001b[32m1.1/1.1 MB\u001b[0m \u001b[31m410.6 kB/s\u001b[0m eta \u001b[36m0:00:00\u001b[0mm eta \u001b[36m0:00:01\u001b[0m0:01\u001b[0m:01\u001b[0m\n",
      "\u001b[?25hRequirement already satisfied: tqdm>=4.33.0 in /Users/def/.dev/labs/skripsi_dapi/sentiment_analysis_model/venv/lib/python3.10/site-packages (from swifter) (4.64.1)\n",
      "Collecting ipywidgets>=7.0.0\n",
      "  Downloading ipywidgets-8.0.4-py3-none-any.whl (137 kB)\n",
      "\u001b[2K     \u001b[38;2;114;156;31m━━━━━━━━━━━━━━━━━━━━━━━━━━━━━━━━━━━━━━━\u001b[0m \u001b[32m137.8/137.8 kB\u001b[0m \u001b[31m1.2 MB/s\u001b[0m eta \u001b[36m0:00:00\u001b[0m[31m1.4 MB/s\u001b[0m eta \u001b[36m0:00:01\u001b[0m\n",
      "\u001b[?25hCollecting cloudpickle>=0.2.2\n",
      "  Using cached cloudpickle-2.2.0-py3-none-any.whl (25 kB)\n",
      "Requirement already satisfied: parso>0.4.0 in /Users/def/.dev/labs/skripsi_dapi/sentiment_analysis_model/venv/lib/python3.10/site-packages (from swifter) (0.8.3)\n",
      "Collecting bleach>=3.1.1\n",
      "  Using cached bleach-5.0.1-py3-none-any.whl (160 kB)\n",
      "Requirement already satisfied: six>=1.9.0 in /Users/def/.dev/labs/skripsi_dapi/sentiment_analysis_model/venv/lib/python3.10/site-packages (from bleach>=3.1.1->swifter) (1.16.0)\n",
      "Collecting webencodings\n",
      "  Using cached webencodings-0.5.1-py2.py3-none-any.whl (11 kB)\n",
      "Collecting partd>=0.3.10\n",
      "  Using cached partd-1.3.0-py3-none-any.whl (18 kB)\n",
      "Collecting pyyaml>=5.3.1\n",
      "  Using cached PyYAML-6.0-cp310-cp310-macosx_10_9_x86_64.whl (197 kB)\n",
      "Collecting fsspec>=0.6.0\n",
      "  Downloading fsspec-2022.11.0-py3-none-any.whl (139 kB)\n",
      "\u001b[2K     \u001b[38;2;114;156;31m━━━━━━━━━━━━━━━━━━━━━━━━━━━━━━━━━━━━━\u001b[0m \u001b[32m139.5/139.5 kB\u001b[0m \u001b[31m487.7 kB/s\u001b[0m eta \u001b[36m0:00:00\u001b[0m1m466.3 kB/s\u001b[0m eta \u001b[36m0:00:01\u001b[0m\n",
      "\u001b[?25hRequirement already satisfied: packaging>=20.0 in /Users/def/.dev/labs/skripsi_dapi/sentiment_analysis_model/venv/lib/python3.10/site-packages (from dask[dataframe]>=2.10.0->swifter) (23.0)\n",
      "Collecting toolz>=0.8.2\n",
      "  Using cached toolz-0.12.0-py3-none-any.whl (55 kB)\n",
      "Requirement already satisfied: click>=7.0 in /Users/def/.dev/labs/skripsi_dapi/sentiment_analysis_model/venv/lib/python3.10/site-packages (from dask[dataframe]>=2.10.0->swifter) (8.1.3)\n",
      "Requirement already satisfied: numpy>=1.18 in /Users/def/.dev/labs/skripsi_dapi/sentiment_analysis_model/venv/lib/python3.10/site-packages (from dask[dataframe]>=2.10.0->swifter) (1.24.1)\n",
      "Collecting widgetsnbextension~=4.0\n",
      "  Downloading widgetsnbextension-4.0.5-py3-none-any.whl (2.0 MB)\n",
      "\u001b[2K     \u001b[38;2;114;156;31m━━━━━━━━━━━━━━━━━━━━━━━━━━━━━━━━━━━━━━━━\u001b[0m \u001b[32m2.0/2.0 MB\u001b[0m \u001b[31m585.1 kB/s\u001b[0m eta \u001b[36m0:00:00\u001b[0mm eta \u001b[36m0:00:01\u001b[0m[36m0:00:01\u001b[0m\n",
      "\u001b[?25hCollecting jupyterlab-widgets~=3.0\n",
      "  Downloading jupyterlab_widgets-3.0.5-py3-none-any.whl (384 kB)\n",
      "\u001b[2K     \u001b[38;2;114;156;31m━━━━━━━━━━━━━━━━━━━━━━━━━━━━━━━━━━━━━━━\u001b[0m \u001b[32m384.3/384.3 kB\u001b[0m \u001b[31m1.6 MB/s\u001b[0m eta \u001b[36m0:00:00\u001b[0m MB/s\u001b[0m eta \u001b[36m0:00:01\u001b[0m:01\u001b[0m\n",
      "\u001b[?25hRequirement already satisfied: traitlets>=4.3.1 in /Users/def/.dev/labs/skripsi_dapi/sentiment_analysis_model/venv/lib/python3.10/site-packages (from ipywidgets>=7.0.0->swifter) (5.8.0)\n",
      "Requirement already satisfied: ipython>=6.1.0 in /Users/def/.dev/labs/skripsi_dapi/sentiment_analysis_model/venv/lib/python3.10/site-packages (from ipywidgets>=7.0.0->swifter) (8.8.0)\n",
      "Requirement already satisfied: ipykernel>=4.5.1 in /Users/def/.dev/labs/skripsi_dapi/sentiment_analysis_model/venv/lib/python3.10/site-packages (from ipywidgets>=7.0.0->swifter) (6.19.4)\n",
      "Requirement already satisfied: python-dateutil>=2.8.1 in /Users/def/.dev/labs/skripsi_dapi/sentiment_analysis_model/venv/lib/python3.10/site-packages (from pandas>=1.0.0->swifter) (2.8.2)\n",
      "Requirement already satisfied: pytz>=2020.1 in /Users/def/.dev/labs/skripsi_dapi/sentiment_analysis_model/venv/lib/python3.10/site-packages (from pandas>=1.0.0->swifter) (2022.7)\n",
      "Requirement already satisfied: jupyter-client>=6.1.12 in /Users/def/.dev/labs/skripsi_dapi/sentiment_analysis_model/venv/lib/python3.10/site-packages (from ipykernel>=4.5.1->ipywidgets>=7.0.0->swifter) (7.4.8)\n",
      "Requirement already satisfied: debugpy>=1.0 in /Users/def/.dev/labs/skripsi_dapi/sentiment_analysis_model/venv/lib/python3.10/site-packages (from ipykernel>=4.5.1->ipywidgets>=7.0.0->swifter) (1.6.5)\n",
      "Requirement already satisfied: matplotlib-inline>=0.1 in /Users/def/.dev/labs/skripsi_dapi/sentiment_analysis_model/venv/lib/python3.10/site-packages (from ipykernel>=4.5.1->ipywidgets>=7.0.0->swifter) (0.1.6)\n",
      "Requirement already satisfied: appnope in /Users/def/.dev/labs/skripsi_dapi/sentiment_analysis_model/venv/lib/python3.10/site-packages (from ipykernel>=4.5.1->ipywidgets>=7.0.0->swifter) (0.1.3)\n",
      "Requirement already satisfied: pyzmq>=17 in /Users/def/.dev/labs/skripsi_dapi/sentiment_analysis_model/venv/lib/python3.10/site-packages (from ipykernel>=4.5.1->ipywidgets>=7.0.0->swifter) (24.0.1)\n",
      "Requirement already satisfied: nest-asyncio in /Users/def/.dev/labs/skripsi_dapi/sentiment_analysis_model/venv/lib/python3.10/site-packages (from ipykernel>=4.5.1->ipywidgets>=7.0.0->swifter) (1.5.6)\n",
      "Requirement already satisfied: comm>=0.1.1 in /Users/def/.dev/labs/skripsi_dapi/sentiment_analysis_model/venv/lib/python3.10/site-packages (from ipykernel>=4.5.1->ipywidgets>=7.0.0->swifter) (0.1.2)\n",
      "Requirement already satisfied: tornado>=6.1 in /Users/def/.dev/labs/skripsi_dapi/sentiment_analysis_model/venv/lib/python3.10/site-packages (from ipykernel>=4.5.1->ipywidgets>=7.0.0->swifter) (6.2)\n",
      "Requirement already satisfied: pexpect>4.3 in /Users/def/.dev/labs/skripsi_dapi/sentiment_analysis_model/venv/lib/python3.10/site-packages (from ipython>=6.1.0->ipywidgets>=7.0.0->swifter) (4.8.0)\n",
      "Requirement already satisfied: pygments>=2.4.0 in /Users/def/.dev/labs/skripsi_dapi/sentiment_analysis_model/venv/lib/python3.10/site-packages (from ipython>=6.1.0->ipywidgets>=7.0.0->swifter) (2.14.0)\n",
      "Requirement already satisfied: jedi>=0.16 in /Users/def/.dev/labs/skripsi_dapi/sentiment_analysis_model/venv/lib/python3.10/site-packages (from ipython>=6.1.0->ipywidgets>=7.0.0->swifter) (0.18.2)\n",
      "Requirement already satisfied: stack-data in /Users/def/.dev/labs/skripsi_dapi/sentiment_analysis_model/venv/lib/python3.10/site-packages (from ipython>=6.1.0->ipywidgets>=7.0.0->swifter) (0.6.2)\n",
      "Requirement already satisfied: decorator in /Users/def/.dev/labs/skripsi_dapi/sentiment_analysis_model/venv/lib/python3.10/site-packages (from ipython>=6.1.0->ipywidgets>=7.0.0->swifter) (5.1.1)\n",
      "Requirement already satisfied: prompt-toolkit<3.1.0,>=3.0.11 in /Users/def/.dev/labs/skripsi_dapi/sentiment_analysis_model/venv/lib/python3.10/site-packages (from ipython>=6.1.0->ipywidgets>=7.0.0->swifter) (3.0.36)\n",
      "Requirement already satisfied: backcall in /Users/def/.dev/labs/skripsi_dapi/sentiment_analysis_model/venv/lib/python3.10/site-packages (from ipython>=6.1.0->ipywidgets>=7.0.0->swifter) (0.2.0)\n",
      "Requirement already satisfied: pickleshare in /Users/def/.dev/labs/skripsi_dapi/sentiment_analysis_model/venv/lib/python3.10/site-packages (from ipython>=6.1.0->ipywidgets>=7.0.0->swifter) (0.7.5)\n",
      "Collecting locket\n",
      "  Using cached locket-1.0.0-py2.py3-none-any.whl (4.4 kB)\n",
      "Requirement already satisfied: entrypoints in /Users/def/.dev/labs/skripsi_dapi/sentiment_analysis_model/venv/lib/python3.10/site-packages (from jupyter-client>=6.1.12->ipykernel>=4.5.1->ipywidgets>=7.0.0->swifter) (0.4)\n",
      "Requirement already satisfied: jupyter-core>=4.9.2 in /Users/def/.dev/labs/skripsi_dapi/sentiment_analysis_model/venv/lib/python3.10/site-packages (from jupyter-client>=6.1.12->ipykernel>=4.5.1->ipywidgets>=7.0.0->swifter) (5.1.2)\n",
      "Requirement already satisfied: ptyprocess>=0.5 in /Users/def/.dev/labs/skripsi_dapi/sentiment_analysis_model/venv/lib/python3.10/site-packages (from pexpect>4.3->ipython>=6.1.0->ipywidgets>=7.0.0->swifter) (0.7.0)\n",
      "Requirement already satisfied: wcwidth in /Users/def/.dev/labs/skripsi_dapi/sentiment_analysis_model/venv/lib/python3.10/site-packages (from prompt-toolkit<3.1.0,>=3.0.11->ipython>=6.1.0->ipywidgets>=7.0.0->swifter) (0.2.5)\n",
      "Requirement already satisfied: pure-eval in /Users/def/.dev/labs/skripsi_dapi/sentiment_analysis_model/venv/lib/python3.10/site-packages (from stack-data->ipython>=6.1.0->ipywidgets>=7.0.0->swifter) (0.2.2)\n",
      "Requirement already satisfied: asttokens>=2.1.0 in /Users/def/.dev/labs/skripsi_dapi/sentiment_analysis_model/venv/lib/python3.10/site-packages (from stack-data->ipython>=6.1.0->ipywidgets>=7.0.0->swifter) (2.2.1)\n",
      "Requirement already satisfied: executing>=1.2.0 in /Users/def/.dev/labs/skripsi_dapi/sentiment_analysis_model/venv/lib/python3.10/site-packages (from stack-data->ipython>=6.1.0->ipywidgets>=7.0.0->swifter) (1.2.0)\n",
      "Requirement already satisfied: platformdirs>=2.5 in /Users/def/.dev/labs/skripsi_dapi/sentiment_analysis_model/venv/lib/python3.10/site-packages (from jupyter-core>=4.9.2->jupyter-client>=6.1.12->ipykernel>=4.5.1->ipywidgets>=7.0.0->swifter) (2.6.2)\n",
      "Installing collected packages: webencodings, widgetsnbextension, toolz, pyyaml, locket, jupyterlab-widgets, fsspec, cloudpickle, bleach, partd, dask, ipywidgets, swifter\n",
      "\u001b[33m  DEPRECATION: swifter is being installed using the legacy 'setup.py install' method, because it does not have a 'pyproject.toml' and the 'wheel' package is not installed. pip 23.1 will enforce this behaviour change. A possible replacement is to enable the '--use-pep517' option. Discussion can be found at https://github.com/pypa/pip/issues/8559\u001b[0m\u001b[33m\n",
      "\u001b[0m  Running setup.py install for swifter ... \u001b[?25ldone\n",
      "\u001b[?25hSuccessfully installed bleach-5.0.1 cloudpickle-2.2.0 dask-2022.12.1 fsspec-2022.11.0 ipywidgets-8.0.4 jupyterlab-widgets-3.0.5 locket-1.0.0 partd-1.3.0 pyyaml-6.0 swifter-1.3.4 toolz-0.12.0 webencodings-0.5.1 widgetsnbextension-4.0.5\n",
      "Note: you may need to restart the kernel to use updated packages.\n"
     ]
    }
   ],
   "source": [
    "# Title: Prepare dependencies\n",
    "\n",
    "# SNScrape is a Python library for scraping social media sites such as Twitter, Facebook, Instagram, and Reddit. It is a command-line tool and a Python module. It is free and open-source software, released under the MIT license.\n",
    "%pip install snscrape\n",
    "\n",
    "# Pandas is a fast, powerful, flexible and easy to use open source data analysis and manipulation tool, built on top of the Python programming language.\n",
    "%pip install pandas\n",
    "\n",
    "# Sastrawi is a Python library for Indonesian language processing. It is a port of the original Java Sastrawi library.\n",
    "%pip install Sastrawi\n",
    "\n",
    "# NLTK is a leading platform for building Python programs to work with human language data. It provides easy-to-use interfaces to over 50 corpora and lexical resources such as WordNet, along with a suite of text processing libraries for classification, tokenization, stemming, tagging, parsing, and semantic reasoning, wrappers for industrial-strength NLP libraries, and an active discussion forum.\n",
    "%pip install nltk\n",
    "\n",
    "# Swifter\n",
    "%pip install swifter\n",
    "\n",
    "# Save pip dependencies to requirements.txt\n",
    "!pip freeze > ../requirements.txt"
   ]
  },
  {
   "cell_type": "code",
   "execution_count": 2,
   "metadata": {},
   "outputs": [
    {
     "name": "stderr",
     "output_type": "stream",
     "text": [
      "[nltk_data] Downloading package stopwords to /Users/def/nltk_data...\n",
      "[nltk_data]   Package stopwords is already up-to-date!\n"
     ]
    },
    {
     "data": {
      "text/plain": [
       "True"
      ]
     },
     "execution_count": 2,
     "metadata": {},
     "output_type": "execute_result"
    }
   ],
   "source": [
    "# Download NLTK data\n",
    "import nltk\n",
    "\n",
    "nltk.download('stopwords')"
   ]
  }
 ],
 "metadata": {
  "kernelspec": {
   "display_name": "venv",
   "language": "python",
   "name": "python3"
  },
  "language_info": {
   "codemirror_mode": {
    "name": "ipython",
    "version": 3
   },
   "file_extension": ".py",
   "mimetype": "text/x-python",
   "name": "python",
   "nbconvert_exporter": "python",
   "pygments_lexer": "ipython3",
   "version": "3.10.9"
  },
  "orig_nbformat": 4,
  "vscode": {
   "interpreter": {
    "hash": "85fe51655c1fcaa9a7b9c0223583abd4e8b4409b0fbdb1dc760dec4edd874462"
   }
  }
 },
 "nbformat": 4,
 "nbformat_minor": 2
}
