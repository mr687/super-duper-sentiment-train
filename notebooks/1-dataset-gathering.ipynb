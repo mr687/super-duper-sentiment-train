{
 "cells": [
  {
   "attachments": {},
   "cell_type": "markdown",
   "metadata": {},
   "source": [
    "# Data Gathering"
   ]
  },
  {
   "attachments": {},
   "cell_type": "markdown",
   "metadata": {},
   "source": [
    "## Section 1: Let's collect some tweets!"
   ]
  },
  {
   "cell_type": "code",
   "execution_count": 8,
   "metadata": {},
   "outputs": [],
   "source": [
    "import snscrape.modules.twitter as TwitterScraper\n",
    "import pandas as pd\n",
    "\n",
    "import re\n",
    "import itertools\n",
    "\n",
    "from datetime import datetime as dt"
   ]
  },
  {
   "cell_type": "code",
   "execution_count": 9,
   "metadata": {},
   "outputs": [],
   "source": [
    "# Data Requirements:\n",
    "\n",
    "keyword = \"Pertamina\"\n",
    "since = \"2022-09-03\"\n",
    "until = \"2022-09-05\"\n",
    "lang = \"in\" # Search only in Region Indonesia\n",
    "limit = 15000\n",
    "\n",
    "query = f\"+{keyword} since:{since} until:{until} lang:{lang}\""
   ]
  },
  {
   "cell_type": "code",
   "execution_count": 10,
   "metadata": {},
   "outputs": [
    {
     "name": "stdout",
     "output_type": "stream",
     "text": [
      "Searching for tweets that fit with the query: '+Pertamina since:2022-09-03 until:2022-09-05 lang:in'\n",
      "Search completed in 0 hours, 7 minutes, and 10 seconds\n",
      "(7502, 27)\n"
     ]
    }
   ],
   "source": [
    "# Get Tweets\n",
    "\n",
    "startTime = dt.now().replace(microsecond=0)\n",
    "\n",
    "print(f\"Searching for tweets that fit with the query: '{query}'\")\n",
    "tweets = TwitterScraper.TwitterSearchScraper(query).get_items()\n",
    "sliced_tweets = itertools.islice(tweets, limit)\n",
    "\n",
    "df = pd.DataFrame(sliced_tweets)\n",
    "\n",
    "endTime = dt.now().replace(microsecond=0)\n",
    "durationTime = endTime - startTime\n",
    "\n",
    "hours, remainder = divmod(durationTime.total_seconds(), 3600)\n",
    "minutes, seconds = divmod(remainder, 60)\n",
    "\n",
    "print(f\"Search completed in {int(hours)} hours, {int(minutes)} minutes, and {int(seconds)} seconds\")\n",
    "print(df.shape)"
   ]
  },
  {
   "cell_type": "code",
   "execution_count": 11,
   "metadata": {},
   "outputs": [],
   "source": [
    "df.head()\n",
    "\n",
    "def removeNewLineAndQuotes(tweet):\n",
    "\ttweet = re.sub(r'[\\n\\\\\"\\'\\`]+', ' ', tweet)\n",
    "\treturn tweet\n",
    "\n",
    "df['content'] = df['content'].apply(removeNewLineAndQuotes)\n",
    "df['renderedContent'] = df['renderedContent'].apply(removeNewLineAndQuotes)\n",
    "df.head()\n",
    "\n",
    "df.to_csv(f\"../dataset/raw.{query}.csv\", header=True, index=False, sep=\"`\")"
   ]
  }
 ],
 "metadata": {
  "kernelspec": {
   "display_name": "venv",
   "language": "python",
   "name": "python3"
  },
  "language_info": {
   "codemirror_mode": {
    "name": "ipython",
    "version": 3
   },
   "file_extension": ".py",
   "mimetype": "text/x-python",
   "name": "python",
   "nbconvert_exporter": "python",
   "pygments_lexer": "ipython3",
   "version": "3.10.9"
  },
  "orig_nbformat": 4,
  "vscode": {
   "interpreter": {
    "hash": "85fe51655c1fcaa9a7b9c0223583abd4e8b4409b0fbdb1dc760dec4edd874462"
   }
  }
 },
 "nbformat": 4,
 "nbformat_minor": 2
}
