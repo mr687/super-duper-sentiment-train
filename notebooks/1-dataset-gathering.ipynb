{
 "cells": [
  {
   "attachments": {},
   "cell_type": "markdown",
   "metadata": {},
   "source": [
    "# Data Gathering"
   ]
  },
  {
   "attachments": {},
   "cell_type": "markdown",
   "metadata": {},
   "source": [
    "## Section 1: Let's collect some tweets!"
   ]
  },
  {
   "cell_type": "code",
   "execution_count": 2,
   "metadata": {},
   "outputs": [],
   "source": [
    "import snscrape.modules.twitter as TwitterScraper\n",
    "import pandas as pd\n",
    "\n",
    "import re\n",
    "import itertools\n",
    "\n",
    "from datetime import datetime as dt"
   ]
  },
  {
   "cell_type": "code",
   "execution_count": 9,
   "metadata": {},
   "outputs": [],
   "source": [
    "# Data Requirements:\n",
    "\n",
    "keyword = \"Pertamina\"\n",
    "since = \"2022-09-03\"\n",
    "until = \"2022-09-05\"\n",
    "lang = \"in\" # Search only in Region Indonesia\n",
    "limit = 15000\n",
    "\n",
    "query = f\"+{keyword} since:{since} until:{until} lang:{lang}\""
   ]
  },
  {
   "cell_type": "code",
   "execution_count": 10,
   "metadata": {},
   "outputs": [
    {
     "name": "stdout",
     "output_type": "stream",
     "text": [
      "Searching for tweets that fit with the query: '+Pertamina since:2022-09-03 until:2022-09-05 lang:in'\n",
      "Search completed in 0 hours, 7 minutes, and 10 seconds\n",
      "(7502, 27)\n"
     ]
    }
   ],
   "source": [
    "# Get Tweets\n",
    "\n",
    "startTime = dt.now().replace(microsecond=0)\n",
    "\n",
    "print(f\"Searching for tweets that fit with the query: '{query}'\")\n",
    "tweets = TwitterScraper.TwitterSearchScraper(query).get_items()\n",
    "sliced_tweets = itertools.islice(tweets, limit)\n",
    "\n",
    "df = pd.DataFrame(sliced_tweets)\n",
    "\n",
    "endTime = dt.now().replace(microsecond=0)\n",
    "durationTime = endTime - startTime\n",
    "\n",
    "hours, remainder = divmod(durationTime.total_seconds(), 3600)\n",
    "minutes, seconds = divmod(remainder, 60)\n",
    "\n",
    "print(f\"Search completed in {int(hours)} hours, {int(minutes)} minutes, and {int(seconds)} seconds\")\n",
    "print(df.shape)"
   ]
  },
  {
   "cell_type": "code",
   "execution_count": 11,
   "metadata": {},
   "outputs": [],
   "source": [
    "df.head()\n",
    "\n",
    "def removeNewLineAndQuotes(tweet):\n",
    "\ttweet = re.sub(r'[\\n\\\\\"\\'\\`]+', ' ', tweet)\n",
    "\treturn tweet\n",
    "\n",
    "df['content'] = df['content'].apply(removeNewLineAndQuotes)\n",
    "df['renderedContent'] = df['renderedContent'].apply(removeNewLineAndQuotes)\n",
    "df.head()\n",
    "\n",
    "df.to_csv(f\"../dataset/raw.{query}.csv\", header=True, index=False, sep=\"`\")"
   ]
  },
  {
   "attachments": {},
   "cell_type": "markdown",
   "metadata": {},
   "source": [
    "## Section 2: Collect Lexicon Dataset"
   ]
  },
  {
   "cell_type": "code",
   "execution_count": 18,
   "metadata": {},
   "outputs": [],
   "source": [
    "# Download from https://github.com/fajri91/InSet\n",
    "\n",
    "indoset_lexicon_neg_url = \"https://raw.githubusercontent.com/fajri91/InSet/master/negative.tsv\"\n",
    "indoset_lexicon_pos_url = \"https://raw.githubusercontent.com/fajri91/InSet/master/positive.tsv\"\n",
    "vulgarity_lexicon_url = \"https://raw.githubusercontent.com/onlyphantom/elangdev/master/elang/word2vec/utils/swear-words.txt\"\n",
    "\n",
    "indoset_lexicon_neg = pd.read_csv(indoset_lexicon_neg_url, sep=\"\\t\")\n",
    "indoset_lexicon_pos = pd.read_csv(indoset_lexicon_pos_url, sep=\"\\t\")\n",
    "vulgarity_lexicon = pd.read_csv(vulgarity_lexicon_url, sep=\"\\t\", header=None)"
   ]
  },
  {
   "cell_type": "code",
   "execution_count": 19,
   "metadata": {},
   "outputs": [
    {
     "name": "stdout",
     "output_type": "stream",
     "text": [
      "Total lexicon neg: 6609\n",
      "Total lexicon pos: 3609\n",
      "Total lexicon vulgarity: 62\n"
     ]
    }
   ],
   "source": [
    "print(f\"Total lexicon neg:\", len(indoset_lexicon_neg))\n",
    "print(f\"Total lexicon pos:\", len(indoset_lexicon_pos))\n",
    "print(f\"Total lexicon vulgarity:\", len(vulgarity_lexicon))\n",
    "\n",
    "indoset_lexicon_neg.to_csv(\"../dataset/wordlist/indoset_lexicon_neg.csv\", header=True, index=False, sep=\"\\t\")\n",
    "indoset_lexicon_pos.to_csv(\"../dataset/wordlist/indoset_lexicon_pos.csv\", header=True, index=False, sep=\"\\t\")\n",
    "vulgarity_lexicon.to_csv(\"../dataset/wordlist/vulgarity_lexicon.csv\", header=None, index=False, sep=\"\\t\")"
   ]
  }
 ],
 "metadata": {
  "kernelspec": {
   "display_name": "venv",
   "language": "python",
   "name": "python3"
  },
  "language_info": {
   "codemirror_mode": {
    "name": "ipython",
    "version": 3
   },
   "file_extension": ".py",
   "mimetype": "text/x-python",
   "name": "python",
   "nbconvert_exporter": "python",
   "pygments_lexer": "ipython3",
   "version": "3.10.9 (main, Dec 15 2022, 18:25:35) [Clang 14.0.0 (clang-1400.0.29.202)]"
  },
  "orig_nbformat": 4,
  "vscode": {
   "interpreter": {
    "hash": "85fe51655c1fcaa9a7b9c0223583abd4e8b4409b0fbdb1dc760dec4edd874462"
   }
  }
 },
 "nbformat": 4,
 "nbformat_minor": 2
}
